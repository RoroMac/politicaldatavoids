{
 "cells": [
  {
   "cell_type": "code",
   "execution_count": 1,
   "id": "organized-lindsay",
   "metadata": {
    "scrolled": false
   },
   "outputs": [],
   "source": [
    "import pandas as pd\n",
    "\n",
    "#readcsv file date\n",
    "com = pd.read_csv(\"community/FB_groups_States_abortion.csv\", sep= \",\")\n",
    "pol = pd.read_csv(\"political/Topics_FB_Political_Posts_per_partyabortion.csv\", sep = \",\")\n",
    "news = pd.read_csv(\"news/FB_groups_News_Media_Outlets_abortion.csv\", sep=\",\")"
   ]
  },
  {
   "cell_type": "code",
   "execution_count": 2,
   "id": "checked-shaft",
   "metadata": {},
   "outputs": [
    {
     "data": {
      "text/plain": [
       "121"
      ]
     },
     "execution_count": 2,
     "metadata": {},
     "output_type": "execute_result"
    }
   ],
   "source": [
    "com.head()\n",
    "len(com)"
   ]
  },
  {
   "cell_type": "code",
   "execution_count": 3,
   "id": "controlled-evaluation",
   "metadata": {},
   "outputs": [
    {
     "data": {
      "text/html": [
       "<div>\n",
       "<style scoped>\n",
       "    .dataframe tbody tr th:only-of-type {\n",
       "        vertical-align: middle;\n",
       "    }\n",
       "\n",
       "    .dataframe tbody tr th {\n",
       "        vertical-align: top;\n",
       "    }\n",
       "\n",
       "    .dataframe thead th {\n",
       "        text-align: right;\n",
       "    }\n",
       "</style>\n",
       "<table border=\"1\" class=\"dataframe\">\n",
       "  <thead>\n",
       "    <tr style=\"text-align: right;\">\n",
       "      <th></th>\n",
       "      <th>Unnamed: 0</th>\n",
       "      <th>Group Name</th>\n",
       "      <th>User Name</th>\n",
       "      <th>Facebook Id</th>\n",
       "      <th>Likes at Posting</th>\n",
       "      <th>Created</th>\n",
       "      <th>Type</th>\n",
       "      <th>Likes</th>\n",
       "      <th>Comments</th>\n",
       "      <th>Shares</th>\n",
       "      <th>...</th>\n",
       "      <th>Image Text</th>\n",
       "      <th>Link Text</th>\n",
       "      <th>Description</th>\n",
       "      <th>Sponsor Id</th>\n",
       "      <th>Sponsor Name</th>\n",
       "      <th>Total Interactions</th>\n",
       "      <th>Overperforming Score</th>\n",
       "      <th>MessageDescr</th>\n",
       "      <th>MessageOnly</th>\n",
       "      <th>party</th>\n",
       "    </tr>\n",
       "  </thead>\n",
       "  <tbody>\n",
       "    <tr>\n",
       "      <th>0</th>\n",
       "      <td>673</td>\n",
       "      <td>Latinos for Biden</td>\n",
       "      <td>Latinos4Biden</td>\n",
       "      <td>112443027004765</td>\n",
       "      <td>2164.0</td>\n",
       "      <td>2020-10-08 21:24:17 EDT</td>\n",
       "      <td>Link</td>\n",
       "      <td>30</td>\n",
       "      <td>16</td>\n",
       "      <td>19</td>\n",
       "      <td>...</td>\n",
       "      <td>NaN</td>\n",
       "      <td>Trump’s antibody treatment was tested using ce...</td>\n",
       "      <td>This week, President Donald Trump extolled the...</td>\n",
       "      <td>NaN</td>\n",
       "      <td>NaN</td>\n",
       "      <td>92</td>\n",
       "      <td>-1.22</td>\n",
       "      <td>There you go! #hypocrites https://www.google.c...</td>\n",
       "      <td>There you go! #hypocrites https://www.google.c...</td>\n",
       "      <td>Democrat</td>\n",
       "    </tr>\n",
       "    <tr>\n",
       "      <th>1</th>\n",
       "      <td>1319</td>\n",
       "      <td>Latinos for Joe Biden 2020</td>\n",
       "      <td>LatinosforJoe</td>\n",
       "      <td>121155365229796</td>\n",
       "      <td>1591.0</td>\n",
       "      <td>2020-08-25 17:06:41 EDT</td>\n",
       "      <td>Link</td>\n",
       "      <td>8</td>\n",
       "      <td>9</td>\n",
       "      <td>1</td>\n",
       "      <td>...</td>\n",
       "      <td>NaN</td>\n",
       "      <td>Republican convention live updates: First lady...</td>\n",
       "      <td>Speakers on the second day of the GOP gatherin...</td>\n",
       "      <td>NaN</td>\n",
       "      <td>NaN</td>\n",
       "      <td>34</td>\n",
       "      <td>-2.44</td>\n",
       "      <td>If true, this is a very serious charge. https:...</td>\n",
       "      <td>If true, this is a very serious charge. https:...</td>\n",
       "      <td>Democrat</td>\n",
       "    </tr>\n",
       "    <tr>\n",
       "      <th>2</th>\n",
       "      <td>1893</td>\n",
       "      <td>Latinos for Biden</td>\n",
       "      <td>Latinos4Biden</td>\n",
       "      <td>112443027004765</td>\n",
       "      <td>2389.0</td>\n",
       "      <td>2020-10-19 09:28:26 EDT</td>\n",
       "      <td>Native Video</td>\n",
       "      <td>7</td>\n",
       "      <td>1</td>\n",
       "      <td>2</td>\n",
       "      <td>...</td>\n",
       "      <td>NaN</td>\n",
       "      <td>Phil Vischer</td>\n",
       "      <td>Is abortion the one issue that should determin...</td>\n",
       "      <td>NaN</td>\n",
       "      <td>NaN</td>\n",
       "      <td>10</td>\n",
       "      <td>-4.40</td>\n",
       "      <td>Interesting analysis regarding Roe v Wade as a...</td>\n",
       "      <td>Interesting analysis regarding Roe v Wade as a...</td>\n",
       "      <td>Democrat</td>\n",
       "    </tr>\n",
       "    <tr>\n",
       "      <th>3</th>\n",
       "      <td>1967</td>\n",
       "      <td>Latinos for Joe Biden 2020</td>\n",
       "      <td>LatinosforJoe</td>\n",
       "      <td>121155365229796</td>\n",
       "      <td>2466.0</td>\n",
       "      <td>2020-10-26 17:59:46 EDT</td>\n",
       "      <td>Link</td>\n",
       "      <td>2</td>\n",
       "      <td>1</td>\n",
       "      <td>0</td>\n",
       "      <td>...</td>\n",
       "      <td>NaN</td>\n",
       "      <td>Trump's taxes, election and abortion cases awa...</td>\n",
       "      <td>Amy Coney Barrett is preparing to join the Sup...</td>\n",
       "      <td>NaN</td>\n",
       "      <td>NaN</td>\n",
       "      <td>9</td>\n",
       "      <td>-8.22</td>\n",
       "      <td>Presidential elections have consequences. http...</td>\n",
       "      <td>Presidential elections have consequences. http...</td>\n",
       "      <td>Democrat</td>\n",
       "    </tr>\n",
       "    <tr>\n",
       "      <th>4</th>\n",
       "      <td>2832</td>\n",
       "      <td>305 Latinos for BIDEN</td>\n",
       "      <td>NaN</td>\n",
       "      <td>102392958093630</td>\n",
       "      <td>NaN</td>\n",
       "      <td>2020-10-14 12:17:38 EDT</td>\n",
       "      <td>Link</td>\n",
       "      <td>1</td>\n",
       "      <td>0</td>\n",
       "      <td>0</td>\n",
       "      <td>...</td>\n",
       "      <td>NaN</td>\n",
       "      <td>This is a re-share of a post</td>\n",
       "      <td>Prominent evangelical leaders have just releas...</td>\n",
       "      <td>NaN</td>\n",
       "      <td>NaN</td>\n",
       "      <td>1</td>\n",
       "      <td>-0.92</td>\n",
       "      <td>Prominent evangelical leaders have just relea...</td>\n",
       "      <td>Prominent evangelical leaders have just relea...</td>\n",
       "      <td>Democrat</td>\n",
       "    </tr>\n",
       "  </tbody>\n",
       "</table>\n",
       "<p>5 rows × 35 columns</p>\n",
       "</div>"
      ],
      "text/plain": [
       "   Unnamed: 0                  Group Name      User Name      Facebook Id  \\\n",
       "0         673           Latinos for Biden  Latinos4Biden  112443027004765   \n",
       "1        1319  Latinos for Joe Biden 2020  LatinosforJoe  121155365229796   \n",
       "2        1893           Latinos for Biden  Latinos4Biden  112443027004765   \n",
       "3        1967  Latinos for Joe Biden 2020  LatinosforJoe  121155365229796   \n",
       "4        2832       305 Latinos for BIDEN            NaN  102392958093630   \n",
       "\n",
       "   Likes at Posting                  Created          Type  Likes  Comments  \\\n",
       "0            2164.0  2020-10-08 21:24:17 EDT          Link     30        16   \n",
       "1            1591.0  2020-08-25 17:06:41 EDT          Link      8         9   \n",
       "2            2389.0  2020-10-19 09:28:26 EDT  Native Video      7         1   \n",
       "3            2466.0  2020-10-26 17:59:46 EDT          Link      2         1   \n",
       "4               NaN  2020-10-14 12:17:38 EDT          Link      1         0   \n",
       "\n",
       "   Shares  ...  Image Text                                          Link Text  \\\n",
       "0      19  ...         NaN  Trump’s antibody treatment was tested using ce...   \n",
       "1       1  ...         NaN  Republican convention live updates: First lady...   \n",
       "2       2  ...         NaN                                       Phil Vischer   \n",
       "3       0  ...         NaN  Trump's taxes, election and abortion cases awa...   \n",
       "4       0  ...         NaN                       This is a re-share of a post   \n",
       "\n",
       "                                         Description  Sponsor Id  \\\n",
       "0  This week, President Donald Trump extolled the...         NaN   \n",
       "1  Speakers on the second day of the GOP gatherin...         NaN   \n",
       "2  Is abortion the one issue that should determin...         NaN   \n",
       "3  Amy Coney Barrett is preparing to join the Sup...         NaN   \n",
       "4  Prominent evangelical leaders have just releas...         NaN   \n",
       "\n",
       "   Sponsor Name  Total Interactions Overperforming Score  \\\n",
       "0           NaN                  92                -1.22   \n",
       "1           NaN                  34                -2.44   \n",
       "2           NaN                  10                -4.40   \n",
       "3           NaN                   9                -8.22   \n",
       "4           NaN                   1                -0.92   \n",
       "\n",
       "                                        MessageDescr  \\\n",
       "0  There you go! #hypocrites https://www.google.c...   \n",
       "1  If true, this is a very serious charge. https:...   \n",
       "2  Interesting analysis regarding Roe v Wade as a...   \n",
       "3  Presidential elections have consequences. http...   \n",
       "4   Prominent evangelical leaders have just relea...   \n",
       "\n",
       "                                         MessageOnly     party  \n",
       "0  There you go! #hypocrites https://www.google.c...  Democrat  \n",
       "1  If true, this is a very serious charge. https:...  Democrat  \n",
       "2  Interesting analysis regarding Roe v Wade as a...  Democrat  \n",
       "3  Presidential elections have consequences. http...  Democrat  \n",
       "4   Prominent evangelical leaders have just relea...  Democrat  \n",
       "\n",
       "[5 rows x 35 columns]"
      ]
     },
     "execution_count": 3,
     "metadata": {},
     "output_type": "execute_result"
    }
   ],
   "source": [
    "pol.head()"
   ]
  },
  {
   "cell_type": "code",
   "execution_count": 4,
   "id": "unlike-detail",
   "metadata": {},
   "outputs": [
    {
     "data": {
      "text/html": [
       "<div>\n",
       "<style scoped>\n",
       "    .dataframe tbody tr th:only-of-type {\n",
       "        vertical-align: middle;\n",
       "    }\n",
       "\n",
       "    .dataframe tbody tr th {\n",
       "        vertical-align: top;\n",
       "    }\n",
       "\n",
       "    .dataframe thead th {\n",
       "        text-align: right;\n",
       "    }\n",
       "</style>\n",
       "<table border=\"1\" class=\"dataframe\">\n",
       "  <thead>\n",
       "    <tr style=\"text-align: right;\">\n",
       "      <th></th>\n",
       "      <th>Unnamed: 0</th>\n",
       "      <th>Page Name</th>\n",
       "      <th>User Name</th>\n",
       "      <th>Facebook Id</th>\n",
       "      <th>Likes at Posting</th>\n",
       "      <th>Created</th>\n",
       "      <th>Type</th>\n",
       "      <th>Likes</th>\n",
       "      <th>Comments</th>\n",
       "      <th>Shares</th>\n",
       "      <th>...</th>\n",
       "      <th>Sponsor Id</th>\n",
       "      <th>Sponsor Name</th>\n",
       "      <th>Total Interactions</th>\n",
       "      <th>Total Interactions (weighted  —  Likes 1x Shares 1x Comments 1x Love 1x Wow 1x Haha 1x Sad 1x Angry 1x Care 1x )</th>\n",
       "      <th>Overperforming Score</th>\n",
       "      <th>clean_url</th>\n",
       "      <th>State</th>\n",
       "      <th>Facebook</th>\n",
       "      <th>MessageDescr</th>\n",
       "      <th>MessageOnly</th>\n",
       "    </tr>\n",
       "  </thead>\n",
       "  <tbody>\n",
       "    <tr>\n",
       "      <th>0</th>\n",
       "      <td>8560</td>\n",
       "      <td>We are mitú</td>\n",
       "      <td>wearemitu</td>\n",
       "      <td>1405630409737397</td>\n",
       "      <td>4041189.0</td>\n",
       "      <td>2020-08-21 20:45:59 EDT</td>\n",
       "      <td>Link</td>\n",
       "      <td>120</td>\n",
       "      <td>60</td>\n",
       "      <td>6</td>\n",
       "      <td>...</td>\n",
       "      <td>NaN</td>\n",
       "      <td>NaN</td>\n",
       "      <td>226</td>\n",
       "      <td>226</td>\n",
       "      <td>1.35</td>\n",
       "      <td>wearemitu</td>\n",
       "      <td>California</td>\n",
       "      <td>https://www.facebook.com/wearemitu/</td>\n",
       "      <td>\"All of our clients face barriers to abortion ...</td>\n",
       "      <td>\"All of our clients face barriers to abortion ...</td>\n",
       "    </tr>\n",
       "    <tr>\n",
       "      <th>1</th>\n",
       "      <td>9412</td>\n",
       "      <td>HuffPost Latino Voices</td>\n",
       "      <td>HuffPostLatinoVoices</td>\n",
       "      <td>256004367748633</td>\n",
       "      <td>169071.0</td>\n",
       "      <td>2020-08-27 00:15:25 EDT</td>\n",
       "      <td>Link</td>\n",
       "      <td>12</td>\n",
       "      <td>9</td>\n",
       "      <td>10</td>\n",
       "      <td>...</td>\n",
       "      <td>NaN</td>\n",
       "      <td>NaN</td>\n",
       "      <td>198</td>\n",
       "      <td>198</td>\n",
       "      <td>2.30</td>\n",
       "      <td>huffpostlatinovoices</td>\n",
       "      <td>New York</td>\n",
       "      <td>https://www.facebook.com/HuffPostLatinoVoices/</td>\n",
       "      <td>Abby Johnson, an anti-abortion extremist, beli...</td>\n",
       "      <td>Abby Johnson, an anti-abortion extremist, beli...</td>\n",
       "    </tr>\n",
       "    <tr>\n",
       "      <th>2</th>\n",
       "      <td>12696</td>\n",
       "      <td>Hola America</td>\n",
       "      <td>HolaAmericaNews</td>\n",
       "      <td>151808304955498</td>\n",
       "      <td>11656.0</td>\n",
       "      <td>2020-08-27 08:38:30 EDT</td>\n",
       "      <td>Link</td>\n",
       "      <td>2</td>\n",
       "      <td>27</td>\n",
       "      <td>11</td>\n",
       "      <td>...</td>\n",
       "      <td>NaN</td>\n",
       "      <td>NaN</td>\n",
       "      <td>123</td>\n",
       "      <td>123</td>\n",
       "      <td>1.81</td>\n",
       "      <td>holaamericanews</td>\n",
       "      <td>Illinois</td>\n",
       "      <td>https://www.facebook.com/HolaAmericaNews</td>\n",
       "      <td>🤣🤣🤣 Patriarchy Abby: Catholic extremist and an...</td>\n",
       "      <td>🤣🤣🤣 Patriarchy Abby: Catholic extremist and an...</td>\n",
       "    </tr>\n",
       "    <tr>\n",
       "      <th>3</th>\n",
       "      <td>12697</td>\n",
       "      <td>Hola America</td>\n",
       "      <td>HolaAmericaNews</td>\n",
       "      <td>151808304955498</td>\n",
       "      <td>11656.0</td>\n",
       "      <td>2020-08-27 08:38:30 EDT</td>\n",
       "      <td>Link</td>\n",
       "      <td>2</td>\n",
       "      <td>27</td>\n",
       "      <td>11</td>\n",
       "      <td>...</td>\n",
       "      <td>NaN</td>\n",
       "      <td>NaN</td>\n",
       "      <td>123</td>\n",
       "      <td>123</td>\n",
       "      <td>1.81</td>\n",
       "      <td>holaamericanews</td>\n",
       "      <td>Iowa</td>\n",
       "      <td>https://www.facebook.com/HolaAmericaNews</td>\n",
       "      <td>🤣🤣🤣 Patriarchy Abby: Catholic extremist and an...</td>\n",
       "      <td>🤣🤣🤣 Patriarchy Abby: Catholic extremist and an...</td>\n",
       "    </tr>\n",
       "    <tr>\n",
       "      <th>4</th>\n",
       "      <td>27751</td>\n",
       "      <td>Remezcla</td>\n",
       "      <td>Remezcla</td>\n",
       "      <td>119685104266</td>\n",
       "      <td>700415.0</td>\n",
       "      <td>2020-08-22 14:40:01 EDT</td>\n",
       "      <td>Link</td>\n",
       "      <td>21</td>\n",
       "      <td>2</td>\n",
       "      <td>4</td>\n",
       "      <td>...</td>\n",
       "      <td>NaN</td>\n",
       "      <td>NaN</td>\n",
       "      <td>28</td>\n",
       "      <td>28</td>\n",
       "      <td>-3.04</td>\n",
       "      <td>remezcla</td>\n",
       "      <td>New York</td>\n",
       "      <td>https://www.facebook.com/Remezcla/</td>\n",
       "      <td>Watch the trailer &amp; mark your cal: Two friends...</td>\n",
       "      <td>Watch the trailer &amp; mark your cal: Two friends...</td>\n",
       "    </tr>\n",
       "  </tbody>\n",
       "</table>\n",
       "<p>5 rows × 38 columns</p>\n",
       "</div>"
      ],
      "text/plain": [
       "   Unnamed: 0               Page Name             User Name       Facebook Id  \\\n",
       "0        8560             We are mitú             wearemitu  1405630409737397   \n",
       "1        9412  HuffPost Latino Voices  HuffPostLatinoVoices   256004367748633   \n",
       "2       12696            Hola America       HolaAmericaNews   151808304955498   \n",
       "3       12697            Hola America       HolaAmericaNews   151808304955498   \n",
       "4       27751                Remezcla              Remezcla      119685104266   \n",
       "\n",
       "   Likes at Posting                  Created  Type  Likes  Comments  Shares  \\\n",
       "0         4041189.0  2020-08-21 20:45:59 EDT  Link    120        60       6   \n",
       "1          169071.0  2020-08-27 00:15:25 EDT  Link     12         9      10   \n",
       "2           11656.0  2020-08-27 08:38:30 EDT  Link      2        27      11   \n",
       "3           11656.0  2020-08-27 08:38:30 EDT  Link      2        27      11   \n",
       "4          700415.0  2020-08-22 14:40:01 EDT  Link     21         2       4   \n",
       "\n",
       "   ...  Sponsor Id  Sponsor Name  Total Interactions  \\\n",
       "0  ...         NaN           NaN                 226   \n",
       "1  ...         NaN           NaN                 198   \n",
       "2  ...         NaN           NaN                 123   \n",
       "3  ...         NaN           NaN                 123   \n",
       "4  ...         NaN           NaN                  28   \n",
       "\n",
       "   Total Interactions (weighted  —  Likes 1x Shares 1x Comments 1x Love 1x Wow 1x Haha 1x Sad 1x Angry 1x Care 1x )  \\\n",
       "0                                                226                                                                  \n",
       "1                                                198                                                                  \n",
       "2                                                123                                                                  \n",
       "3                                                123                                                                  \n",
       "4                                                 28                                                                  \n",
       "\n",
       "   Overperforming Score             clean_url       State  \\\n",
       "0                  1.35             wearemitu  California   \n",
       "1                  2.30  huffpostlatinovoices    New York   \n",
       "2                  1.81       holaamericanews    Illinois   \n",
       "3                  1.81       holaamericanews        Iowa   \n",
       "4                 -3.04              remezcla    New York   \n",
       "\n",
       "                                         Facebook  \\\n",
       "0             https://www.facebook.com/wearemitu/   \n",
       "1  https://www.facebook.com/HuffPostLatinoVoices/   \n",
       "2        https://www.facebook.com/HolaAmericaNews   \n",
       "3        https://www.facebook.com/HolaAmericaNews   \n",
       "4              https://www.facebook.com/Remezcla/   \n",
       "\n",
       "                                        MessageDescr  \\\n",
       "0  \"All of our clients face barriers to abortion ...   \n",
       "1  Abby Johnson, an anti-abortion extremist, beli...   \n",
       "2  🤣🤣🤣 Patriarchy Abby: Catholic extremist and an...   \n",
       "3  🤣🤣🤣 Patriarchy Abby: Catholic extremist and an...   \n",
       "4  Watch the trailer & mark your cal: Two friends...   \n",
       "\n",
       "                                         MessageOnly  \n",
       "0  \"All of our clients face barriers to abortion ...  \n",
       "1  Abby Johnson, an anti-abortion extremist, beli...  \n",
       "2  🤣🤣🤣 Patriarchy Abby: Catholic extremist and an...  \n",
       "3  🤣🤣🤣 Patriarchy Abby: Catholic extremist and an...  \n",
       "4  Watch the trailer & mark your cal: Two friends...  \n",
       "\n",
       "[5 rows x 38 columns]"
      ]
     },
     "execution_count": 4,
     "metadata": {},
     "output_type": "execute_result"
    }
   ],
   "source": [
    "news.head()"
   ]
  },
  {
   "cell_type": "code",
   "execution_count": 5,
   "id": "needed-reality",
   "metadata": {},
   "outputs": [],
   "source": [
    "pol.rename(columns = {'Group Name': 'name'}, inplace=True)\n",
    "news.rename(columns = {'Page Name': 'name'}, inplace=True)"
   ]
  },
  {
   "cell_type": "code",
   "execution_count": 6,
   "id": "confident-softball",
   "metadata": {},
   "outputs": [
    {
     "name": "stdout",
     "output_type": "stream",
     "text": [
      "53\n",
      "['Latinos for Biden' 'Latinos for Joe Biden 2020' '305 Latinos for BIDEN'\n",
      " 'NoCo Latinos for Biden' 'Republican National Hispanic Assembly'\n",
      " 'Republican National Hispanic Assembly - TEXAS'\n",
      " 'Mexicans for Donald Trump' 'Latinos For Trump 2020'\n",
      " 'Arizona Latino Republican Association' \"New Mexico's Hispanic For Trump\"\n",
      " 'Mexican Chicas For Trump' 'Latinos Saint Lucie County for Trump'\n",
      " 'Republican National Hispanic Assembly - Lubbock Chapter'\n",
      " 'Republican National Hispanic Assembly of Seminole County'\n",
      " 'Republican National Hispanic Assembly of Collier County'\n",
      " 'Republican National Hispanic Assembly of Missouri'\n",
      " 'Latinos For Trump - Michigan' 'Latino National Republican Coalition'\n",
      " 'Latinos For Trump-El Paso'\n",
      " 'Republican National Hispanic Assembly of Charlotte'\n",
      " 'Latinos For Trump -Georgia' 'Latinos for TRUMP CLUB'\n",
      " 'Republican National Hispanic Assembly New Jersey Chapter'\n",
      " 'Republican National Hispanic Assembly of Palm Beach County'\n",
      " 'Latinos Against Donald Trump' 'Latinos contra Trump'\n",
      " 'Latino Leaders Against Crooked Lying Trump Ruining America'\n",
      " 'Latinos Against Trump' 'Latinos For Trump -California Group'\n",
      " 'CARA - Cuban American Republican Alliance'\n",
      " 'Republican National Hispanic Assembly - Official Group'\n",
      " 'DONALD TRUMP PARA HISPANOS' 'Latinos For Trump.'\n",
      " 'Republican National Hispanic Assembly of Florida'\n",
      " 'Latinos for Trump 2020- Georgia/Florida'\n",
      " 'Texas Latinos/as Republican Group'\n",
      " 'Latinos Blacks White Jewish - Trump Train & Trump Team'\n",
      " 'Latinos who support Donald Trump'\n",
      " 'American Latinos for freedom! Trump 2020' 'Trump Para Los hispanos'\n",
      " 'TRUMP--LATINOS EXIGEN UNA VICTORIA APLASTANTE 2020'\n",
      " 'Kentucky republican latinos'\n",
      " 'Puertorican Republican and Latin Conservative Movement'\n",
      " 'Latinos For Trump - Texas Group'\n",
      " 'Colombianos Y Latinoamericanos que apoyamos a Donald Trump'\n",
      " 'Latinos For Trump Manatee area Group'\n",
      " 'Latino Republican National Federation' 'Latinos 4 Trump'\n",
      " 'Latinos For Trump' 'BORICUAS FOR TRUMP' 'Hispanos con Donald Trump'\n",
      " 'Republican National Hispanic Assembly of Virginia'\n",
      " 'Latinos por Donald Trump in Las Vegas']\n"
     ]
    }
   ],
   "source": [
    "print(pol.name.nunique())\n",
    "print(pol.name.unique())"
   ]
  },
  {
   "cell_type": "code",
   "execution_count": 7,
   "id": "expressed-third",
   "metadata": {},
   "outputs": [
    {
     "name": "stdout",
     "output_type": "stream",
     "text": [
      "<class 'pandas.core.frame.DataFrame'>\n",
      "<class 'pandas.core.series.Series'>\n",
      "<class 'pandas.core.series.Series'>\n"
     ]
    }
   ],
   "source": [
    "print(type(com))\n",
    "print(type(com['name']))\n",
    "print(type(com.name))"
   ]
  },
  {
   "cell_type": "code",
   "execution_count": 8,
   "id": "retained-clearing",
   "metadata": {},
   "outputs": [
    {
     "name": "stdout",
     "output_type": "stream",
     "text": [
      "121\n"
     ]
    },
    {
     "data": {
      "text/html": [
       "<div>\n",
       "<style scoped>\n",
       "    .dataframe tbody tr th:only-of-type {\n",
       "        vertical-align: middle;\n",
       "    }\n",
       "\n",
       "    .dataframe tbody tr th {\n",
       "        vertical-align: top;\n",
       "    }\n",
       "\n",
       "    .dataframe thead th {\n",
       "        text-align: right;\n",
       "    }\n",
       "</style>\n",
       "<table border=\"1\" class=\"dataframe\">\n",
       "  <thead>\n",
       "    <tr style=\"text-align: right;\">\n",
       "      <th></th>\n",
       "      <th>Unnamed: 0</th>\n",
       "      <th>name</th>\n",
       "      <th>Page or Account URL</th>\n",
       "      <th>List</th>\n",
       "      <th>State</th>\n",
       "      <th>state</th>\n",
       "      <th>Facebook Id</th>\n",
       "      <th>Group Name</th>\n",
       "      <th>User Name</th>\n",
       "      <th>Likes at Posting</th>\n",
       "      <th>...</th>\n",
       "      <th>Final Link</th>\n",
       "      <th>Image Text</th>\n",
       "      <th>Link Text</th>\n",
       "      <th>Description</th>\n",
       "      <th>Sponsor Id</th>\n",
       "      <th>Sponsor Name</th>\n",
       "      <th>Total Interactions</th>\n",
       "      <th>Overperforming Score</th>\n",
       "      <th>MessageDescr</th>\n",
       "      <th>MessageOnly</th>\n",
       "    </tr>\n",
       "  </thead>\n",
       "  <tbody>\n",
       "    <tr>\n",
       "      <th>116</th>\n",
       "      <td>1055396</td>\n",
       "      <td>South Carolina Latina Project</td>\n",
       "      <td>NaN</td>\n",
       "      <td>NaN</td>\n",
       "      <td>NaN</td>\n",
       "      <td>NaN</td>\n",
       "      <td>338611392983971</td>\n",
       "      <td>South Carolina Latina Project</td>\n",
       "      <td>southcarolinalatinaproject</td>\n",
       "      <td>1070.0</td>\n",
       "      <td>...</td>\n",
       "      <td>NaN</td>\n",
       "      <td>NaN</td>\n",
       "      <td>Photos from South Carolina Latina Project's post</td>\n",
       "      <td>NaN</td>\n",
       "      <td>NaN</td>\n",
       "      <td>NaN</td>\n",
       "      <td>7</td>\n",
       "      <td>-0.36</td>\n",
       "      <td>PHOTOCREDIT: Zachary Diaz DRAMATIC MAKEUP: Jul...</td>\n",
       "      <td>PHOTOCREDIT: Zachary Diaz DRAMATIC MAKEUP: Jul...</td>\n",
       "    </tr>\n",
       "    <tr>\n",
       "      <th>117</th>\n",
       "      <td>1055934</td>\n",
       "      <td>Utah Latino Republicans</td>\n",
       "      <td>NaN</td>\n",
       "      <td>NaN</td>\n",
       "      <td>NaN</td>\n",
       "      <td>NaN</td>\n",
       "      <td>443879169772342</td>\n",
       "      <td>Utah Latino Republicans</td>\n",
       "      <td>utahlatinogop</td>\n",
       "      <td>NaN</td>\n",
       "      <td>...</td>\n",
       "      <td>NaN</td>\n",
       "      <td>NaN</td>\n",
       "      <td>NaN</td>\n",
       "      <td>NaN</td>\n",
       "      <td>NaN</td>\n",
       "      <td>NaN</td>\n",
       "      <td>11</td>\n",
       "      <td>-1.91</td>\n",
       "      <td>Now that the DNC convention is over, I’d like ...</td>\n",
       "      <td>Now that the DNC convention is over, I’d like ...</td>\n",
       "    </tr>\n",
       "    <tr>\n",
       "      <th>118</th>\n",
       "      <td>1063426</td>\n",
       "      <td>Republican National Hispanic Assembly of Missouri</td>\n",
       "      <td>NaN</td>\n",
       "      <td>NaN</td>\n",
       "      <td>NaN</td>\n",
       "      <td>NaN</td>\n",
       "      <td>107299267821721</td>\n",
       "      <td>Republican National Hispanic Assembly of Missouri</td>\n",
       "      <td>RNHAofMissouri</td>\n",
       "      <td>NaN</td>\n",
       "      <td>...</td>\n",
       "      <td>NaN</td>\n",
       "      <td>NaN</td>\n",
       "      <td>This is a re-share of a post</td>\n",
       "      <td>President Donald Trump’s administration contin...</td>\n",
       "      <td>NaN</td>\n",
       "      <td>NaN</td>\n",
       "      <td>5</td>\n",
       "      <td>0.26</td>\n",
       "      <td>La administración del Presidente Donald Trump ...</td>\n",
       "      <td>La administración del Presidente Donald Trump ...</td>\n",
       "    </tr>\n",
       "    <tr>\n",
       "      <th>119</th>\n",
       "      <td>1063931</td>\n",
       "      <td>Republican National Hispanic Assembly of Palm ...</td>\n",
       "      <td>NaN</td>\n",
       "      <td>NaN</td>\n",
       "      <td>NaN</td>\n",
       "      <td>NaN</td>\n",
       "      <td>467175194025720</td>\n",
       "      <td>Republican National Hispanic Assembly of Palm ...</td>\n",
       "      <td>RNHAFLPalmBeach</td>\n",
       "      <td>564.0</td>\n",
       "      <td>...</td>\n",
       "      <td>https://www.facebook.com/login/?next=https%3A%...</td>\n",
       "      <td>NaN</td>\n",
       "      <td>CatholicVote</td>\n",
       "      <td>Joe Biden tried to force the Little Sisters of...</td>\n",
       "      <td>NaN</td>\n",
       "      <td>NaN</td>\n",
       "      <td>0</td>\n",
       "      <td>-12.00</td>\n",
       "      <td>Joe Biden tried to force the Little Sisters o...</td>\n",
       "      <td>Joe Biden tried to force the Little Sisters o...</td>\n",
       "    </tr>\n",
       "    <tr>\n",
       "      <th>120</th>\n",
       "      <td>1064940</td>\n",
       "      <td>Republican National Hispanic Assembly New Jers...</td>\n",
       "      <td>NaN</td>\n",
       "      <td>NaN</td>\n",
       "      <td>NaN</td>\n",
       "      <td>NaN</td>\n",
       "      <td>108074727679268</td>\n",
       "      <td>Republican National Hispanic Assembly New Jers...</td>\n",
       "      <td>RNHANewJersey1</td>\n",
       "      <td>NaN</td>\n",
       "      <td>...</td>\n",
       "      <td>https://www.facebook.com/login/?next=https%3A%...</td>\n",
       "      <td>JUDGE AMY BARRETT COULD BE THE BOOST THE REPUB...</td>\n",
       "      <td>Timeline Photos</td>\n",
       "      <td>NaN</td>\n",
       "      <td>NaN</td>\n",
       "      <td>NaN</td>\n",
       "      <td>0</td>\n",
       "      <td>0.00</td>\n",
       "      <td>The Supreme Court opens a new term with Republ...</td>\n",
       "      <td>The Supreme Court opens a new term with Republ...</td>\n",
       "    </tr>\n",
       "  </tbody>\n",
       "</table>\n",
       "<p>5 rows × 39 columns</p>\n",
       "</div>"
      ],
      "text/plain": [
       "     Unnamed: 0                                               name  \\\n",
       "116     1055396                      South Carolina Latina Project   \n",
       "117     1055934                            Utah Latino Republicans   \n",
       "118     1063426  Republican National Hispanic Assembly of Missouri   \n",
       "119     1063931  Republican National Hispanic Assembly of Palm ...   \n",
       "120     1064940  Republican National Hispanic Assembly New Jers...   \n",
       "\n",
       "    Page or Account URL List State state      Facebook Id  \\\n",
       "116                 NaN  NaN   NaN   NaN  338611392983971   \n",
       "117                 NaN  NaN   NaN   NaN  443879169772342   \n",
       "118                 NaN  NaN   NaN   NaN  107299267821721   \n",
       "119                 NaN  NaN   NaN   NaN  467175194025720   \n",
       "120                 NaN  NaN   NaN   NaN  108074727679268   \n",
       "\n",
       "                                            Group Name  \\\n",
       "116                      South Carolina Latina Project   \n",
       "117                            Utah Latino Republicans   \n",
       "118  Republican National Hispanic Assembly of Missouri   \n",
       "119  Republican National Hispanic Assembly of Palm ...   \n",
       "120  Republican National Hispanic Assembly New Jers...   \n",
       "\n",
       "                      User Name  Likes at Posting  ...  \\\n",
       "116  southcarolinalatinaproject            1070.0  ...   \n",
       "117               utahlatinogop               NaN  ...   \n",
       "118              RNHAofMissouri               NaN  ...   \n",
       "119             RNHAFLPalmBeach             564.0  ...   \n",
       "120              RNHANewJersey1               NaN  ...   \n",
       "\n",
       "                                            Final Link  \\\n",
       "116                                                NaN   \n",
       "117                                                NaN   \n",
       "118                                                NaN   \n",
       "119  https://www.facebook.com/login/?next=https%3A%...   \n",
       "120  https://www.facebook.com/login/?next=https%3A%...   \n",
       "\n",
       "                                            Image Text  \\\n",
       "116                                                NaN   \n",
       "117                                                NaN   \n",
       "118                                                NaN   \n",
       "119                                                NaN   \n",
       "120  JUDGE AMY BARRETT COULD BE THE BOOST THE REPUB...   \n",
       "\n",
       "                                            Link Text  \\\n",
       "116  Photos from South Carolina Latina Project's post   \n",
       "117                                               NaN   \n",
       "118                      This is a re-share of a post   \n",
       "119                                      CatholicVote   \n",
       "120                                   Timeline Photos   \n",
       "\n",
       "                                           Description  Sponsor Id  \\\n",
       "116                                                NaN         NaN   \n",
       "117                                                NaN         NaN   \n",
       "118  President Donald Trump’s administration contin...         NaN   \n",
       "119  Joe Biden tried to force the Little Sisters of...         NaN   \n",
       "120                                                NaN         NaN   \n",
       "\n",
       "     Sponsor Name  Total Interactions  Overperforming Score  \\\n",
       "116           NaN                   7                 -0.36   \n",
       "117           NaN                  11                 -1.91   \n",
       "118           NaN                   5                  0.26   \n",
       "119           NaN                   0                -12.00   \n",
       "120           NaN                   0                  0.00   \n",
       "\n",
       "                                          MessageDescr  \\\n",
       "116  PHOTOCREDIT: Zachary Diaz DRAMATIC MAKEUP: Jul...   \n",
       "117  Now that the DNC convention is over, I’d like ...   \n",
       "118  La administración del Presidente Donald Trump ...   \n",
       "119   Joe Biden tried to force the Little Sisters o...   \n",
       "120  The Supreme Court opens a new term with Republ...   \n",
       "\n",
       "                                           MessageOnly  \n",
       "116  PHOTOCREDIT: Zachary Diaz DRAMATIC MAKEUP: Jul...  \n",
       "117  Now that the DNC convention is over, I’d like ...  \n",
       "118  La administración del Presidente Donald Trump ...  \n",
       "119   Joe Biden tried to force the Little Sisters o...  \n",
       "120  The Supreme Court opens a new term with Republ...  \n",
       "\n",
       "[5 rows x 39 columns]"
      ]
     },
     "execution_count": 8,
     "metadata": {},
     "output_type": "execute_result"
    }
   ],
   "source": [
    "com.name.fillna(com['Group Name'], inplace = True)\n",
    "print(len(com))\n",
    "com.tail()"
   ]
  },
  {
   "cell_type": "code",
   "execution_count": 9,
   "id": "activated-nation",
   "metadata": {},
   "outputs": [
    {
     "name": "stdout",
     "output_type": "stream",
     "text": [
      "<class 'pandas.core.frame.DataFrame'>\n",
      "<class 'pandas.core.series.Series'>\n",
      "<class 'list'>\n",
      "<class 'str'>\n"
     ]
    }
   ],
   "source": [
    "print(type(com))\n",
    "print(type(com.name))\n",
    "temp = com.name.tolist()\n",
    "print(type(temp))\n",
    "print(type(temp[0]))"
   ]
  },
  {
   "cell_type": "code",
   "execution_count": 10,
   "id": "adopted-strength",
   "metadata": {},
   "outputs": [],
   "source": [
    "cond = []\n",
    "for x in temp:\n",
    "    if 'Trump' in x:\n",
    "        cond.append(x)\n",
    "    if 'Democr' in x:\n",
    "        cond.append(x)\n",
    "    if 'Repub' in x:\n",
    "        cond.append(x)\n",
    "    if 'repub' in x:\n",
    "        cond.append(x)"
   ]
  },
  {
   "cell_type": "code",
   "execution_count": 11,
   "id": "political-romania",
   "metadata": {},
   "outputs": [
    {
     "name": "stdout",
     "output_type": "stream",
     "text": [
      "63\n",
      "63\n",
      "['Hispanos en West Palm Beach FL' 'SAN BERNARDINO SWAPMEET LATINO'\n",
      " 'Ticos en New Jersey' 'Boricuas en Dallas Y Fort Worth'\n",
      " 'BORICUAS 100 X 35 EN NORTH CAROLINA' 'BORICUAS EN KISSIMMEE Y ORLANDO'\n",
      " 'Boricuas en Orlando VIP' 'Boricuas en Killeen Texas'\n",
      " 'Boricuas en Miami Broward FortLauderdale Texas' 'Nicas Unidos En Miami'\n",
      " 'Nicas en San Francisco' 'Venezolanos en Miami' 'Venezolanos en Orlando'\n",
      " 'Venezolanos En Orlando' 'Venezolanos en Dallas - Fort Worth'\n",
      " 'Peruanos en DC, Maryland & Virginia (DMV)' 'Cubanos en miami,fl'\n",
      " 'Latinos en New Jersey (NJ) y New York (NY)' 'Latinos en Minnesota'\n",
      " 'Negocios Y Eventos Latinos en Minnesota'\n",
      " 'Peruanos Unidos en DC, Maryland & Virginia'\n",
      " 'peruanos  en new  york y new jersey  de todas las sangres'\n",
      " 'Peruanos en Orlando, Fl'\n",
      " 'Buffalo, New York, West Side Latinos Stand Up !!!!!!'\n",
      " 'Latinos en Plainfields' 'Texas Louisiana Hispanic District'\n",
      " 'Chicago Latino Film Festival' 'South Carolina Latina Project']\n"
     ]
    }
   ],
   "source": [
    "print(len(cond))\n",
    "#v is index\n",
    "v = []\n",
    "for x in range(len(com['name'])):\n",
    "    if com['name'][x] in cond:\n",
    "        v.append(x)\n",
    "print \n",
    "\n",
    "print(len(v))\n",
    "for i in v:\n",
    "    pol = pol.append(com.iloc[i])\n",
    "\n",
    "com.drop(\n",
    "    labels = v,\n",
    "    axis =0,\n",
    "    inplace=True\n",
    ")\n",
    "\n",
    "pol.tail()\n",
    "print(com.name.unique())"
   ]
  },
  {
   "cell_type": "code",
   "execution_count": 12,
   "id": "going-shelter",
   "metadata": {},
   "outputs": [
    {
     "name": "stdout",
     "output_type": "stream",
     "text": [
      "58\n",
      "['Hispanos en West Palm Beach FL' 'SAN BERNARDINO SWAPMEET LATINO'\n",
      " 'Ticos en New Jersey' 'Boricuas en Dallas Y Fort Worth'\n",
      " 'BORICUAS 100 X 35 EN NORTH CAROLINA' 'BORICUAS EN KISSIMMEE Y ORLANDO'\n",
      " 'Boricuas en Orlando VIP' 'Boricuas en Killeen Texas'\n",
      " 'Boricuas en Miami Broward FortLauderdale Texas' 'Nicas Unidos En Miami'\n",
      " 'Nicas en San Francisco' 'Venezolanos en Miami' 'Venezolanos en Orlando'\n",
      " 'Venezolanos En Orlando' 'Venezolanos en Dallas - Fort Worth'\n",
      " 'Peruanos en DC, Maryland & Virginia (DMV)' 'Cubanos en miami,fl'\n",
      " 'Latinos en New Jersey (NJ) y New York (NY)' 'Latinos en Minnesota'\n",
      " 'Negocios Y Eventos Latinos en Minnesota'\n",
      " 'Peruanos Unidos en DC, Maryland & Virginia'\n",
      " 'peruanos  en new  york y new jersey  de todas las sangres'\n",
      " 'Peruanos en Orlando, Fl'\n",
      " 'Buffalo, New York, West Side Latinos Stand Up !!!!!!'\n",
      " 'Latinos en Plainfields' 'Texas Louisiana Hispanic District'\n",
      " 'Chicago Latino Film Festival' 'South Carolina Latina Project']\n",
      "28\n"
     ]
    }
   ],
   "source": [
    "print(len(com))\n",
    "print(com.name.unique())\n",
    "temp = []\n",
    "temp = com.name.unique()\n",
    "print(len(temp))"
   ]
  },
  {
   "cell_type": "code",
   "execution_count": 13,
   "id": "gentle-burke",
   "metadata": {},
   "outputs": [
    {
     "name": "stdout",
     "output_type": "stream",
     "text": [
      "58\n",
      "311\n",
      "79\n"
     ]
    }
   ],
   "source": [
    "print(len(com))\n",
    "print(len(pol))\n",
    "print(len(news))"
   ]
  },
  {
   "cell_type": "code",
   "execution_count": 14,
   "id": "detected-denver",
   "metadata": {},
   "outputs": [
    {
     "data": {
      "text/html": [
       "<div>\n",
       "<style scoped>\n",
       "    .dataframe tbody tr th:only-of-type {\n",
       "        vertical-align: middle;\n",
       "    }\n",
       "\n",
       "    .dataframe tbody tr th {\n",
       "        vertical-align: top;\n",
       "    }\n",
       "\n",
       "    .dataframe thead th {\n",
       "        text-align: right;\n",
       "    }\n",
       "</style>\n",
       "<table border=\"1\" class=\"dataframe\">\n",
       "  <thead>\n",
       "    <tr style=\"text-align: right;\">\n",
       "      <th></th>\n",
       "      <th>name</th>\n",
       "      <th>group</th>\n",
       "      <th>frequency</th>\n",
       "    </tr>\n",
       "  </thead>\n",
       "  <tbody>\n",
       "    <tr>\n",
       "      <th>0</th>\n",
       "      <td>Hispanos en West Palm Beach FL</td>\n",
       "      <td>Community</td>\n",
       "      <td>2</td>\n",
       "    </tr>\n",
       "    <tr>\n",
       "      <th>1</th>\n",
       "      <td>SAN BERNARDINO SWAPMEET LATINO</td>\n",
       "      <td>Community</td>\n",
       "      <td>1</td>\n",
       "    </tr>\n",
       "    <tr>\n",
       "      <th>2</th>\n",
       "      <td>Ticos en New Jersey</td>\n",
       "      <td>Community</td>\n",
       "      <td>2</td>\n",
       "    </tr>\n",
       "    <tr>\n",
       "      <th>3</th>\n",
       "      <td>Boricuas en Dallas Y Fort Worth</td>\n",
       "      <td>Community</td>\n",
       "      <td>2</td>\n",
       "    </tr>\n",
       "    <tr>\n",
       "      <th>4</th>\n",
       "      <td>BORICUAS 100 X 35 EN NORTH CAROLINA</td>\n",
       "      <td>Community</td>\n",
       "      <td>1</td>\n",
       "    </tr>\n",
       "    <tr>\n",
       "      <th>...</th>\n",
       "      <td>...</td>\n",
       "      <td>...</td>\n",
       "      <td>...</td>\n",
       "    </tr>\n",
       "    <tr>\n",
       "      <th>102</th>\n",
       "      <td>Alabama TV</td>\n",
       "      <td>News</td>\n",
       "      <td>2</td>\n",
       "    </tr>\n",
       "    <tr>\n",
       "      <th>103</th>\n",
       "      <td>Al DÍA News Media</td>\n",
       "      <td>News</td>\n",
       "      <td>2</td>\n",
       "    </tr>\n",
       "    <tr>\n",
       "      <th>104</th>\n",
       "      <td>Democracy Now! en español</td>\n",
       "      <td>News</td>\n",
       "      <td>2</td>\n",
       "    </tr>\n",
       "    <tr>\n",
       "      <th>105</th>\n",
       "      <td>HOY en Delaware</td>\n",
       "      <td>News</td>\n",
       "      <td>1</td>\n",
       "    </tr>\n",
       "    <tr>\n",
       "      <th>106</th>\n",
       "      <td>Neta</td>\n",
       "      <td>News</td>\n",
       "      <td>1</td>\n",
       "    </tr>\n",
       "  </tbody>\n",
       "</table>\n",
       "<p>107 rows × 3 columns</p>\n",
       "</div>"
      ],
      "text/plain": [
       "                                    name      group  frequency\n",
       "0         Hispanos en West Palm Beach FL  Community          2\n",
       "1         SAN BERNARDINO SWAPMEET LATINO  Community          1\n",
       "2                    Ticos en New Jersey  Community          2\n",
       "3        Boricuas en Dallas Y Fort Worth  Community          2\n",
       "4    BORICUAS 100 X 35 EN NORTH CAROLINA  Community          1\n",
       "..                                   ...        ...        ...\n",
       "102                           Alabama TV       News          2\n",
       "103                    Al DÍA News Media       News          2\n",
       "104            Democracy Now! en español       News          2\n",
       "105                      HOY en Delaware       News          1\n",
       "106                                 Neta       News          1\n",
       "\n",
       "[107 rows x 3 columns]"
      ]
     },
     "execution_count": 14,
     "metadata": {},
     "output_type": "execute_result"
    }
   ],
   "source": [
    "#column 1 = group, column 2 = 'name' column 3 = 'frequency'\n",
    "\n",
    "group = []\n",
    "name = []\n",
    "frequency = []\n",
    "#community\n",
    "for x in range(len(com)):\n",
    "    \n",
    "    # new row\n",
    "    if com['name'].iloc[x] not in name:\n",
    "        #append new name\n",
    "        name.append(com['name'].iloc[x])\n",
    "        #create new row\n",
    "        group.append('Community')\n",
    "        #give value of 1\n",
    "        frequency.append(1)\n",
    "    else:\n",
    "        v = name.index(com['name'].iloc[x])\n",
    "        frequency[v] +=1\n",
    "\n",
    "#political\n",
    "for x in range(len(pol)):\n",
    "    if pol['name'].iloc[x] not in name:\n",
    "        #append new name\n",
    "        name.append(pol['name'].iloc[x])\n",
    "        #create new row\n",
    "        group.append('Political')\n",
    "        #give value of 1\n",
    "        frequency.append(1)\n",
    "    else:\n",
    "        v = name.index(pol['name'].iloc[x])\n",
    "        frequency[v] +=1\n",
    "        \n",
    "#news\n",
    "for x in range(len(news)):\n",
    "    if news['name'].iloc[x] not in name:\n",
    "        #append new name\n",
    "        name.append(news['name'].iloc[x])\n",
    "        #create new row\n",
    "        group.append('News')\n",
    "        #give value of 1\n",
    "        frequency.append(1)\n",
    "    else:\n",
    "        v = name.index(news['name'].iloc[x])\n",
    "        frequency[v] +=1\n",
    "\n",
    "dict = {'name': name, 'group': group, 'frequency': frequency}\n",
    "df = pd.DataFrame(dict)\n",
    "df\n"
   ]
  },
  {
   "cell_type": "code",
   "execution_count": 15,
   "id": "forbidden-julian",
   "metadata": {},
   "outputs": [
    {
     "data": {
      "text/plain": [
       "<seaborn.axisgrid.FacetGrid at 0x11375a470>"
      ]
     },
     "execution_count": 15,
     "metadata": {},
     "output_type": "execute_result"
    },
    {
     "data": {
      "image/png": "[encoded data removed]",
      "text/plain": [
       "<Figure size 720x360 with 1 Axes>"
      ]
     },
     "metadata": {
      "needs_background": "light"
     },
     "output_type": "display_data"
    }
   ],
   "source": [
    "import seaborn as sns\n",
    "\n",
    "sns.catplot(x='group', y = 'frequency', data =df, dodge=True, kind = 'violin', aspect =2)"
   ]
  },
  {
   "cell_type": "code",
   "execution_count": 16,
   "id": "irish-turner",
   "metadata": {},
   "outputs": [
    {
     "data": {
      "text/plain": [
       "<seaborn.axisgrid.FacetGrid at 0x1240e3860>"
      ]
     },
     "execution_count": 16,
     "metadata": {},
     "output_type": "execute_result"
    },
    {
     "data": {
      "image/png": "[encoded data removed]",
      "text/plain": [
       "<Figure size 360x360 with 1 Axes>"
      ]
     },
     "metadata": {
      "needs_background": "light"
     },
     "output_type": "display_data"
    }
   ],
   "source": [
    "sns.catplot(x='group', y ='frequency', data=df, kind ='strip')"
   ]
  },
  {
   "cell_type": "code",
   "execution_count": 17,
   "id": "dental-celebration",
   "metadata": {},
   "outputs": [
    {
     "data": {
      "text/plain": [
       "<seaborn.axisgrid.FacetGrid at 0x124390b70>"
      ]
     },
     "execution_count": 17,
     "metadata": {},
     "output_type": "execute_result"
    },
    {
     "data": {
      "image/png": "[encoded data removed]",
      "text/plain": [
       "<Figure size 360x360 with 1 Axes>"
      ]
     },
     "metadata": {
      "needs_background": "light"
     },
     "output_type": "display_data"
    }
   ],
   "source": [
    "sns.catplot(x='frequency', y ='group', data=df, kind ='violin')"
   ]
  },
  {
   "cell_type": "code",
   "execution_count": 18,
   "id": "ranking-benefit",
   "metadata": {},
   "outputs": [
    {
     "data": {
      "text/plain": [
       "LeveneResult(statistic=2.7258168565228025, pvalue=0.07017408000311123)"
      ]
     },
     "execution_count": 18,
     "metadata": {},
     "output_type": "execute_result"
    }
   ],
   "source": [
    "#Levene Test\n",
    "import scipy.stats as stats\n",
    "#establish three groups\n",
    "group_col = []\n",
    "group_pol = []\n",
    "group_new = []\n",
    "for x in range(len(df)):\n",
    "    if df['group'][x] == \"Community\":\n",
    "        group_col.append(df['frequency'][x])\n",
    "    if df['group'][x] == \"Political\":\n",
    "        group_pol.append(df['frequency'][x])\n",
    "    if df['group'][x] == \"News\":\n",
    "        group_new.append(df['frequency'][x])\n",
    "        \n",
    "stats.levene(group_col, group_pol, group_new, center='median')"
   ]
  },
  {
   "cell_type": "code",
   "execution_count": 19,
   "id": "thermal-appreciation",
   "metadata": {},
   "outputs": [
    {
     "data": {
      "text/plain": [
       "LeveneResult(statistic=6.897994206730356, pvalue=0.0015379691007812008)"
      ]
     },
     "execution_count": 19,
     "metadata": {},
     "output_type": "execute_result"
    }
   ],
   "source": [
    "stats.levene(group_col, group_pol, group_new, center='mean')"
   ]
  },
  {
   "cell_type": "code",
   "execution_count": 20,
   "id": "separated-extension",
   "metadata": {
    "scrolled": true
   },
   "outputs": [
    {
     "data": {
      "text/html": [
       "<div>\n",
       "<style scoped>\n",
       "    .dataframe tbody tr th:only-of-type {\n",
       "        vertical-align: middle;\n",
       "    }\n",
       "\n",
       "    .dataframe tbody tr th {\n",
       "        vertical-align: top;\n",
       "    }\n",
       "\n",
       "    .dataframe thead th {\n",
       "        text-align: right;\n",
       "    }\n",
       "</style>\n",
       "<table border=\"1\" class=\"dataframe\">\n",
       "  <thead>\n",
       "    <tr style=\"text-align: right;\">\n",
       "      <th></th>\n",
       "      <th>Source</th>\n",
       "      <th>ddof1</th>\n",
       "      <th>ddof2</th>\n",
       "      <th>F</th>\n",
       "      <th>p-unc</th>\n",
       "      <th>np2</th>\n",
       "    </tr>\n",
       "  </thead>\n",
       "  <tbody>\n",
       "    <tr>\n",
       "      <th>0</th>\n",
       "      <td>group</td>\n",
       "      <td>2</td>\n",
       "      <td>49.269784</td>\n",
       "      <td>5.544898</td>\n",
       "      <td>0.006731</td>\n",
       "      <td>0.046424</td>\n",
       "    </tr>\n",
       "  </tbody>\n",
       "</table>\n",
       "</div>"
      ],
      "text/plain": [
       "  Source  ddof1      ddof2         F     p-unc       np2\n",
       "0  group      2  49.269784  5.544898  0.006731  0.046424"
      ]
     },
     "execution_count": 20,
     "metadata": {},
     "output_type": "execute_result"
    }
   ],
   "source": [
    "from pingouin import welch_anova\n",
    "aov = welch_anova(dv='frequency', between='group', data=df)\n",
    "aov"
   ]
  },
  {
   "cell_type": "code",
   "execution_count": 21,
   "id": "broad-oklahoma",
   "metadata": {},
   "outputs": [
    {
     "data": {
      "text/plain": [
       "F_onewayResult(statistic=2.531570881656116, pvalue=0.08442623577731703)"
      ]
     },
     "execution_count": 21,
     "metadata": {},
     "output_type": "execute_result"
    }
   ],
   "source": [
    "stats.f_oneway(group_col, group_pol, group_new)"
   ]
  },
  {
   "cell_type": "code",
   "execution_count": 22,
   "id": "vertical-hello",
   "metadata": {},
   "outputs": [
    {
     "data": {
      "text/plain": [
       "MannwhitneyuResult(statistic=642.5, pvalue=0.0519491202775147)"
      ]
     },
     "execution_count": 22,
     "metadata": {},
     "output_type": "execute_result"
    }
   ],
   "source": [
    "stats.mannwhitneyu(group_col, group_pol)"
   ]
  },
  {
   "cell_type": "code",
   "execution_count": 23,
   "id": "robust-physiology",
   "metadata": {},
   "outputs": [
    {
     "data": {
      "text/plain": [
       "MannwhitneyuResult(statistic=594.0, pvalue=0.4341876721749644)"
      ]
     },
     "execution_count": 23,
     "metadata": {},
     "output_type": "execute_result"
    }
   ],
   "source": [
    "stats.mannwhitneyu(group_pol, group_new)"
   ]
  },
  {
   "cell_type": "code",
   "execution_count": 24,
   "id": "brilliant-finding",
   "metadata": {},
   "outputs": [
    {
     "data": {
      "text/plain": [
       "frequency    2.071429\n",
       "dtype: float64"
      ]
     },
     "execution_count": 24,
     "metadata": {},
     "output_type": "execute_result"
    }
   ],
   "source": [
    "df.loc[df['group']=='Community'].mean()"
   ]
  },
  {
   "cell_type": "code",
   "execution_count": 25,
   "id": "coordinate-package",
   "metadata": {},
   "outputs": [
    {
     "data": {
      "text/plain": [
       "frequency    5.362069\n",
       "dtype: float64"
      ]
     },
     "execution_count": 25,
     "metadata": {},
     "output_type": "execute_result"
    }
   ],
   "source": [
    "df.loc[df['group']=='Political'].mean()"
   ]
  },
  {
   "cell_type": "code",
   "execution_count": 27,
   "id": "attempted-insertion",
   "metadata": {},
   "outputs": [
    {
     "data": {
      "text/plain": [
       "frequency    3.761905\n",
       "dtype: float64"
      ]
     },
     "execution_count": 27,
     "metadata": {},
     "output_type": "execute_result"
    }
   ],
   "source": [
    "df.loc[df['group']=='News'].mean()"
   ]
  },
  {
   "cell_type": "code",
   "execution_count": null,
   "id": "seven-personal",
   "metadata": {},
   "outputs": [],
   "source": []
  }
 ],
 "metadata": {
  "kernelspec": {
   "display_name": "Python 3",
   "language": "python",
   "name": "python3"
  },
  "language_info": {
   "codemirror_mode": {
    "name": "ipython",
    "version": 3
   },
   "file_extension": ".py",
   "mimetype": "text/x-python",
   "name": "python",
   "nbconvert_exporter": "python",
   "pygments_lexer": "ipython3",
   "version": "3.7.2"
  }
 },
 "nbformat": 4,
 "nbformat_minor": 5
}
