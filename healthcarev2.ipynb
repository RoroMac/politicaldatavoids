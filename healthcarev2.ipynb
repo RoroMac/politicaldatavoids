{
 "cells": [
  {
   "cell_type": "code",
   "execution_count": 1,
   "id": "upset-examination",
   "metadata": {},
   "outputs": [],
   "source": [
    "import pandas as pd\n",
    "\n",
    "#readcsv file date\n",
    "com = pd.read_csv(\"community/FB_groups_States_racism.csv\", sep= \",\")\n",
    "pol = pd.read_csv(\"political/Topics_FB_Political_Posts_per_partyracism.csv\", sep = \",\")\n",
    "news = pd.read_csv(\"news/FB_groups_News_Media_Outlets_racism.csv\", sep=\",\")"
   ]
  },
  {
   "cell_type": "code",
   "execution_count": 2,
   "id": "buried-bullet",
   "metadata": {},
   "outputs": [],
   "source": [
    "pol.rename(columns = {'Group Name': 'name'}, inplace=True)\n",
    "news.rename(columns = {'Page Name': 'name'}, inplace=True)"
   ]
  },
  {
   "cell_type": "code",
   "execution_count": 3,
   "id": "indie-cliff",
   "metadata": {},
   "outputs": [
    {
     "name": "stdout",
     "output_type": "stream",
     "text": [
      "1150\n"
     ]
    },
    {
     "data": {
      "text/html": [
       "<div>\n",
       "<style scoped>\n",
       "    .dataframe tbody tr th:only-of-type {\n",
       "        vertical-align: middle;\n",
       "    }\n",
       "\n",
       "    .dataframe tbody tr th {\n",
       "        vertical-align: top;\n",
       "    }\n",
       "\n",
       "    .dataframe thead th {\n",
       "        text-align: right;\n",
       "    }\n",
       "</style>\n",
       "<table border=\"1\" class=\"dataframe\">\n",
       "  <thead>\n",
       "    <tr style=\"text-align: right;\">\n",
       "      <th></th>\n",
       "      <th>Unnamed: 0</th>\n",
       "      <th>name</th>\n",
       "      <th>Page or Account URL</th>\n",
       "      <th>List</th>\n",
       "      <th>State</th>\n",
       "      <th>state</th>\n",
       "      <th>Facebook Id</th>\n",
       "      <th>Group Name</th>\n",
       "      <th>User Name</th>\n",
       "      <th>Likes at Posting</th>\n",
       "      <th>...</th>\n",
       "      <th>Final Link</th>\n",
       "      <th>Image Text</th>\n",
       "      <th>Link Text</th>\n",
       "      <th>Description</th>\n",
       "      <th>Sponsor Id</th>\n",
       "      <th>Sponsor Name</th>\n",
       "      <th>Total Interactions</th>\n",
       "      <th>Overperforming Score</th>\n",
       "      <th>MessageDescr</th>\n",
       "      <th>MessageOnly</th>\n",
       "    </tr>\n",
       "  </thead>\n",
       "  <tbody>\n",
       "    <tr>\n",
       "      <th>1145</th>\n",
       "      <td>1045699</td>\n",
       "      <td>Latinos / Hispanics Over 40 New York NY</td>\n",
       "      <td>NaN</td>\n",
       "      <td>NaN</td>\n",
       "      <td>NaN</td>\n",
       "      <td>NaN</td>\n",
       "      <td>1635374083385330</td>\n",
       "      <td>Latinos / Hispanics Over 40 New York NY</td>\n",
       "      <td>latinosover40newyork</td>\n",
       "      <td>NaN</td>\n",
       "      <td>...</td>\n",
       "      <td>NaN</td>\n",
       "      <td>NaN</td>\n",
       "      <td>Years-Long Mission Chinese Leadership Conflict...</td>\n",
       "      <td>Founder Danny Bowien’s ex-wife has leveled sev...</td>\n",
       "      <td>NaN</td>\n",
       "      <td>NaN</td>\n",
       "      <td>0</td>\n",
       "      <td>-2.0</td>\n",
       "      <td>Danny Bowien (left) and Angela Dimayuga at Mis...</td>\n",
       "      <td>Danny Bowien (left) and Angela Dimayuga at Mis...</td>\n",
       "    </tr>\n",
       "    <tr>\n",
       "      <th>1146</th>\n",
       "      <td>1045700</td>\n",
       "      <td>Latinos / Hispanics Over 40 New York NY</td>\n",
       "      <td>NaN</td>\n",
       "      <td>NaN</td>\n",
       "      <td>NaN</td>\n",
       "      <td>NaN</td>\n",
       "      <td>1635374083385330</td>\n",
       "      <td>Latinos / Hispanics Over 40 New York NY</td>\n",
       "      <td>latinosover40newyork</td>\n",
       "      <td>NaN</td>\n",
       "      <td>...</td>\n",
       "      <td>NaN</td>\n",
       "      <td>NaN</td>\n",
       "      <td>Nolita’s Fast-Casual Noodlelove Morphs Into a ...</td>\n",
       "      <td>Umma is a relaunch of Noodlelove, which opened...</td>\n",
       "      <td>NaN</td>\n",
       "      <td>NaN</td>\n",
       "      <td>0</td>\n",
       "      <td>-2.0</td>\n",
       "      <td>The chef Tabitha Yeh (left) and restaurant own...</td>\n",
       "      <td>The chef Tabitha Yeh (left) and restaurant own...</td>\n",
       "    </tr>\n",
       "    <tr>\n",
       "      <th>1147</th>\n",
       "      <td>1045710</td>\n",
       "      <td>Latinos / Hispanics Over 40 New York NY</td>\n",
       "      <td>NaN</td>\n",
       "      <td>NaN</td>\n",
       "      <td>NaN</td>\n",
       "      <td>NaN</td>\n",
       "      <td>1635374083385330</td>\n",
       "      <td>Latinos / Hispanics Over 40 New York NY</td>\n",
       "      <td>latinosover40newyork</td>\n",
       "      <td>NaN</td>\n",
       "      <td>...</td>\n",
       "      <td>NaN</td>\n",
       "      <td>NaN</td>\n",
       "      <td>Mission Chinese, Danny Bowien’s Genre-Bending ...</td>\n",
       "      <td>The restaurant’s East Broadway outpost is slat...</td>\n",
       "      <td>NaN</td>\n",
       "      <td>NaN</td>\n",
       "      <td>0</td>\n",
       "      <td>-2.0</td>\n",
       "      <td>Daniel Krieger/Eater The restaurant’s East Bro...</td>\n",
       "      <td>Daniel Krieger/Eater The restaurant’s East Bro...</td>\n",
       "    </tr>\n",
       "    <tr>\n",
       "      <th>1148</th>\n",
       "      <td>1045719</td>\n",
       "      <td>Latinos / Hispanics Over 40 New York NY</td>\n",
       "      <td>NaN</td>\n",
       "      <td>NaN</td>\n",
       "      <td>NaN</td>\n",
       "      <td>NaN</td>\n",
       "      <td>1635374083385330</td>\n",
       "      <td>Latinos / Hispanics Over 40 New York NY</td>\n",
       "      <td>latinosover40newyork</td>\n",
       "      <td>NaN</td>\n",
       "      <td>...</td>\n",
       "      <td>NaN</td>\n",
       "      <td>NaN</td>\n",
       "      <td>Inside the Tyger, the Vibrant Pan-Asian Sequel...</td>\n",
       "      <td>The sunny new Soho cafe takes diners on a wide...</td>\n",
       "      <td>NaN</td>\n",
       "      <td>NaN</td>\n",
       "      <td>0</td>\n",
       "      <td>-2.0</td>\n",
       "      <td>Dishes at the Tyger The sunny new Soho cafe ta...</td>\n",
       "      <td>Dishes at the Tyger The sunny new Soho cafe ta...</td>\n",
       "    </tr>\n",
       "    <tr>\n",
       "      <th>1149</th>\n",
       "      <td>1045727</td>\n",
       "      <td>Latinos / Hispanics Over 40 New York NY</td>\n",
       "      <td>NaN</td>\n",
       "      <td>NaN</td>\n",
       "      <td>NaN</td>\n",
       "      <td>NaN</td>\n",
       "      <td>1635374083385330</td>\n",
       "      <td>Latinos / Hispanics Over 40 New York NY</td>\n",
       "      <td>latinosover40newyork</td>\n",
       "      <td>NaN</td>\n",
       "      <td>...</td>\n",
       "      <td>NaN</td>\n",
       "      <td>NaN</td>\n",
       "      <td>Crop Circle Summons a Flaky, Savory Chinese St...</td>\n",
       "      <td>The oblong guo kui are the stars here, but the...</td>\n",
       "      <td>NaN</td>\n",
       "      <td>NaN</td>\n",
       "      <td>0</td>\n",
       "      <td>-2.0</td>\n",
       "      <td>Welcome to Hubei! Now try a flatbread. The obl...</td>\n",
       "      <td>Welcome to Hubei! Now try a flatbread. The obl...</td>\n",
       "    </tr>\n",
       "  </tbody>\n",
       "</table>\n",
       "<p>5 rows × 39 columns</p>\n",
       "</div>"
      ],
      "text/plain": [
       "      Unnamed: 0                                     name Page or Account URL  \\\n",
       "1145     1045699  Latinos / Hispanics Over 40 New York NY                 NaN   \n",
       "1146     1045700  Latinos / Hispanics Over 40 New York NY                 NaN   \n",
       "1147     1045710  Latinos / Hispanics Over 40 New York NY                 NaN   \n",
       "1148     1045719  Latinos / Hispanics Over 40 New York NY                 NaN   \n",
       "1149     1045727  Latinos / Hispanics Over 40 New York NY                 NaN   \n",
       "\n",
       "     List State state       Facebook Id  \\\n",
       "1145  NaN   NaN   NaN  1635374083385330   \n",
       "1146  NaN   NaN   NaN  1635374083385330   \n",
       "1147  NaN   NaN   NaN  1635374083385330   \n",
       "1148  NaN   NaN   NaN  1635374083385330   \n",
       "1149  NaN   NaN   NaN  1635374083385330   \n",
       "\n",
       "                                   Group Name             User Name  \\\n",
       "1145  Latinos / Hispanics Over 40 New York NY  latinosover40newyork   \n",
       "1146  Latinos / Hispanics Over 40 New York NY  latinosover40newyork   \n",
       "1147  Latinos / Hispanics Over 40 New York NY  latinosover40newyork   \n",
       "1148  Latinos / Hispanics Over 40 New York NY  latinosover40newyork   \n",
       "1149  Latinos / Hispanics Over 40 New York NY  latinosover40newyork   \n",
       "\n",
       "      Likes at Posting  ... Final Link Image Text  \\\n",
       "1145               NaN  ...        NaN        NaN   \n",
       "1146               NaN  ...        NaN        NaN   \n",
       "1147               NaN  ...        NaN        NaN   \n",
       "1148               NaN  ...        NaN        NaN   \n",
       "1149               NaN  ...        NaN        NaN   \n",
       "\n",
       "                                              Link Text  \\\n",
       "1145  Years-Long Mission Chinese Leadership Conflict...   \n",
       "1146  Nolita’s Fast-Casual Noodlelove Morphs Into a ...   \n",
       "1147  Mission Chinese, Danny Bowien’s Genre-Bending ...   \n",
       "1148  Inside the Tyger, the Vibrant Pan-Asian Sequel...   \n",
       "1149  Crop Circle Summons a Flaky, Savory Chinese St...   \n",
       "\n",
       "                                            Description  Sponsor Id  \\\n",
       "1145  Founder Danny Bowien’s ex-wife has leveled sev...         NaN   \n",
       "1146  Umma is a relaunch of Noodlelove, which opened...         NaN   \n",
       "1147  The restaurant’s East Broadway outpost is slat...         NaN   \n",
       "1148  The sunny new Soho cafe takes diners on a wide...         NaN   \n",
       "1149  The oblong guo kui are the stars here, but the...         NaN   \n",
       "\n",
       "      Sponsor Name  Total Interactions  Overperforming Score  \\\n",
       "1145           NaN                   0                  -2.0   \n",
       "1146           NaN                   0                  -2.0   \n",
       "1147           NaN                   0                  -2.0   \n",
       "1148           NaN                   0                  -2.0   \n",
       "1149           NaN                   0                  -2.0   \n",
       "\n",
       "                                           MessageDescr  \\\n",
       "1145  Danny Bowien (left) and Angela Dimayuga at Mis...   \n",
       "1146  The chef Tabitha Yeh (left) and restaurant own...   \n",
       "1147  Daniel Krieger/Eater The restaurant’s East Bro...   \n",
       "1148  Dishes at the Tyger The sunny new Soho cafe ta...   \n",
       "1149  Welcome to Hubei! Now try a flatbread. The obl...   \n",
       "\n",
       "                                            MessageOnly  \n",
       "1145  Danny Bowien (left) and Angela Dimayuga at Mis...  \n",
       "1146  The chef Tabitha Yeh (left) and restaurant own...  \n",
       "1147  Daniel Krieger/Eater The restaurant’s East Bro...  \n",
       "1148  Dishes at the Tyger The sunny new Soho cafe ta...  \n",
       "1149  Welcome to Hubei! Now try a flatbread. The obl...  \n",
       "\n",
       "[5 rows x 39 columns]"
      ]
     },
     "execution_count": 3,
     "metadata": {},
     "output_type": "execute_result"
    }
   ],
   "source": [
    "com.name.fillna(com['Group Name'], inplace = True)\n",
    "print(len(com))\n",
    "com.tail()"
   ]
  },
  {
   "cell_type": "code",
   "execution_count": 4,
   "id": "significant-bride",
   "metadata": {},
   "outputs": [
    {
     "name": "stdout",
     "output_type": "stream",
     "text": [
      "<class 'pandas.core.frame.DataFrame'>\n",
      "<class 'pandas.core.series.Series'>\n",
      "<class 'list'>\n",
      "<class 'str'>\n"
     ]
    }
   ],
   "source": [
    "print(type(com))\n",
    "print(type(com.name))\n",
    "temp = com.name.tolist()\n",
    "print(type(temp))\n",
    "print(type(temp[0]))"
   ]
  },
  {
   "cell_type": "code",
   "execution_count": 5,
   "id": "negative-canada",
   "metadata": {},
   "outputs": [],
   "source": [
    "cond = []\n",
    "for x in temp:\n",
    "    if 'Trump' in x:\n",
    "        cond.append(x)\n",
    "    if 'Democr' in x:\n",
    "        cond.append(x)\n",
    "    if 'Repub' in x:\n",
    "        cond.append(x)\n",
    "    if 'repub' in x:\n",
    "        cond.append(x)"
   ]
  },
  {
   "cell_type": "code",
   "execution_count": 6,
   "id": "studied-contact",
   "metadata": {},
   "outputs": [
    {
     "name": "stdout",
     "output_type": "stream",
     "text": [
      "0\n",
      "0\n",
      "['Hispanos unidos en New York (H.U.N.Y)' 'Hispanos en Columbus Ohio'\n",
      " 'Hispanos en Oklahoma' 'Hispanos Unidos De Michigan'\n",
      " 'Hispanos en West Palm Beach FL'\n",
      " 'Hispanos en Massachusetts Online Compras & Ventas'\n",
      " 'Comunidad Latina de New Jersey - Latino Community of NJ'\n",
      " 'Latino Outdoors Washington'\n",
      " 'Mundo Latino Network Group Nebraska, Iowa y South Dakota'\n",
      " 'Pennsylvania News Latino' 'Utah Latino Empowerment OutReach Network'\n",
      " 'MIAMI LATIN FESTIVAL' 'LATIN EVENTS SOUTH CAROLINA'\n",
      " 'BACHATA LATIN DANCE SAN DIEGO'\n",
      " 'Columbus Ohio - Comunidad Latina y Trabajo Disponible'\n",
      " 'Boston, Massachusetts Fuerza Latina, Trabajos, Promotiones, Apartamentos'\n",
      " 'RED LATINA NEW YORK' 'America Latina en Orlando FL'\n",
      " 'Hispanic Heritage Matters in Texas' 'Ticos en New Jersey'\n",
      " 'Ticos en Orlando' 'Ticos en Miami Dade' 'Ticos en Houston, Texas'\n",
      " 'Ticos Unidos En Dallas' 'Ticos En Miami' 'Ticos en miami'\n",
      " 'TICOS EN NEW JERSEY & NEW YORK' 'Boricuas en San Antonio,TX'\n",
      " 'Boricuas en Dallas Y Fort Worth' 'BORICUAS 100 X 35 EN NORTH CAROLINA'\n",
      " 'BORICUAS EN KISSIMMEE Y ORLANDO' 'Boricuas en Orlando VIP'\n",
      " 'BORICUAS EN PALM BEACH' 'Boricuas en Miami'\n",
      " 'BORICUAS EN CHARLOTTE NORTH CAROLINA' 'Boricuas en Killeen Texas'\n",
      " 'Boricuas Fajones en Texas' 'Boricuas Alegres en West Palm Beach'\n",
      " 'Negocios Boricuas en Houston' 'BORICUAS EN CHICAGO' 'Boricuas en Texas'\n",
      " 'Boricuas en Dallas-Fort Worth, Texas'\n",
      " 'Boricuas en Miami Broward FortLauderdale Texas' 'JANGUEO BORICUA Miami'\n",
      " 'Soy Boricua en DFW' 'La Fonda Boricua in New York City'\n",
      " 'Nicas Autoconvocados en Miami' 'Nicas Unidos En Miami'\n",
      " 'Nicas en San Francisco' 'Nicas en Miami' 'Nicas en Virginia, Md,Dc'\n",
      " 'Argentinos En New Jersey 🇦🇷 Oficial' 'Argentinos en Miami'\n",
      " '\"ARGENTINOS EN MIAMI\"' 'argentinos en new jersey'\n",
      " 'Mexican parranda party en New York' 'San Diego LGBTQ Latinx Coalition'\n",
      " 'Venezolanos en Miami' 'Venezolanos viviendo en Miami '\n",
      " 'Venezolanos en Orlando' 'Venezolanos En Orlando'\n",
      " 'Venezolanos en Dallas - Fort Worth' 'Venezolanos en Kissimmee'\n",
      " 'Venezolanos en Chicago' 'Venezolanos en new jersey'\n",
      " 'venezolanos en Orlando and Kissimmee'\n",
      " 'Venezolanos Unidos en D.C. Maryland & Virginia'\n",
      " 'Venezolanos en Washington D.C, Virginia and Maryland'\n",
      " 'Venezolanos unidos de Utah' 'Venezolanos en San Francisco'\n",
      " 'Venezolanos en Columbus Ohio' 'Venezolanos en Minnesota'\n",
      " 'Venezolanos en San Diego y Tijuana Baja California'\n",
      " 'Venezolanos en Utah' 'Venezolanos en Indiana, Illinois, Ohio, Michigan'\n",
      " 'Venezolanos en North Dallas - Addison - Carrolton - Famers Branch Etc'\n",
      " 'Venezolanos en north carolina (ventas)' 'Venezolanos en Rhode Island'\n",
      " 'Peruanos en DC, Maryland & Virginia (DMV)' 'PERUANOS EN NORTH DALLAS'\n",
      " 'Salvadoreños en San Francisco' 'SALVADOREÑOS EN HOUSTON®'\n",
      " 'Salvadoreños en Houston TX' 'Guatemaltecos en Miami'\n",
      " 'Hondureños en Dallas' 'Hondureños En Houston Texas'\n",
      " 'Hondureños en Dallas Fort  Worth' 'HONDUREÑOS EN DALLAS, TX.'\n",
      " 'HONDUREÑOS EN HOUSTON, TX.'\n",
      " 'hondureños viviendo en miami: compra vende regala intercambia'\n",
      " 'hondureños en west palm beach y sus alrededores'\n",
      " 'Mexicanos en Texas 🇲🇽🇺🇸' 'Mexicanos unidos de utah'\n",
      " 'Mexicanos en st Louis Missouri' 'Mexicanos En North Carolina'\n",
      " 'Mexicanos en Houston' 'MEXICANOS EN TENNESSEE' 'Mexicanos en Chicago'\n",
      " 'MEXICANOS EN OHIO'\n",
      " 'Mexicanos Unidos en Tri Estatal\\nNew York, New Jersey,Manhhatan Connecticut.'\n",
      " 'Mexicanos en San Francisco California'\n",
      " 'MEXICANOS UNIDOS DE HAVERSTRAW NEW YORK'\n",
      " 'Mexicanos y Latinos en Montana' 'Cubanos en miami,fl'\n",
      " 'CUBANOS EN HOUSTON Y MÁS' 'CUBANOS EN HOUSTON'\n",
      " 'CUBANOS EN ORLANDO,FLORIDA' 'Cubanos en Chicago'\n",
      " 'Cubanos en Somos Miami' 'Cubanos en Dallas' '+ Cubanos en Miami 🇨🇺'\n",
      " 'Cubanos en New Jersey, New York , Pennsylvania y Connecticut. Unete'\n",
      " 'Cubanos En Dallas' 'CUBANOS EN ORLANDO' 'Cubanos en North Carolina'\n",
      " \"Cubans and Hispanics who grew up in Miami during the 60's and 70's\"\n",
      " 'Dominicanos en Houston' 'Dominicanos en Miami Y USA'\n",
      " 'Dominicanos en Orlando.' 'Dominicanos en orlando kissimmee'\n",
      " 'Dominicanos en Rhode Island' 'Ecuatorianos en Orlando'\n",
      " 'ECUATORIANOS en NEW YORK (NY)' 'ECUATORIANOS EN NEW YORK &  NEW JERSEY'\n",
      " 'ECUATORIANOS EN LA CIUDAD DE NEW YORK'\n",
      " 'Ecuatorianos en Virginia-DC-Maryland' 'ECUATORIANOS EN NEW YORK'\n",
      " 'Ecuatorianos  En Chicago' 'Ecuatorianos en La Florida'\n",
      " 'Colombianos Venezolanos Mexicanos Latinos en Katy'\n",
      " 'MUSICOS MEXICANOS EN NUEVA YORK - NEW JERSEY'\n",
      " 'Mexicanos en Florida Central' 'Mexicanos en California 🇲🇽🇺🇸'\n",
      " 'Mexicanos en Arizona 🇲🇽🇺🇸' 'Mexicanos en California USA u otros estados'\n",
      " 'Mexicanos En Connecticut' 'Latinos en Florida, Broward & Miami Dade'\n",
      " 'Latinos en Compro y Vendo en St Louis Missouri' 'LATINOS EN NEW YORK'\n",
      " 'latinos en maryland , washington dc y virginia '\n",
      " 'Latinos en New Jersey (NJ) y New York (NY)' '☀️ Latinos en Miami 🌴'\n",
      " 'latinos en New York' 'Latinos en Minnesota' 'Latinos en Texas'\n",
      " 'Latinos in Tech - Washington' 'Latinos Unidos En Massachusetts'\n",
      " 'Pennsylvania Latinos' 'Peruanos Unidos en DC, Maryland & Virginia'\n",
      " 'peruanos  en new  york y new jersey  de todas las sangres'\n",
      " 'Peruanos en New Jersey' 'Peruanos en Massachusetts'\n",
      " 'Peruanos En Massachusetts MP' 'Peruanos en Orlando, Fl'\n",
      " 'Peruvian Americans of New Jersey USA  Peruanos Americanos de New Jersey USA'\n",
      " 'APU Asociación Peruanos Unidos de Massachusetts' 'Peruanos en Chicago'\n",
      " 'Peruanos en Utah' 'Peruanos de Corazon NY NJ' 'PERUANOS EN FLORIDA'\n",
      " 'VENEZOLANOS EN  KATY,TX' 'Venezolanos en Colorado'\n",
      " 'Venezolanos en Charlotte NC' 'Grupo de Venezolanos Activos en Georgia'\n",
      " 'Venezolanos en Nashville' 'Venezolanos en La Florida'\n",
      " 'Ciudadanos Venezolanos en Atlanta.' 'Venezolanos en Florida.'\n",
      " 'Venezolanos Solidarios En Kendall' 'Venezolanos En Tampa Bay Oficial'\n",
      " 'Venezolanos en NY' 'Venezolanos en Boston'\n",
      " 'Oakland Latinos United (Unidos)' 'Acción y Alertas Latinos Wisconsin'\n",
      " 'Latinos en Houston Texas' 'Latinos en Charlotte North Carolina'\n",
      " 'Chilenos Latinos unidos en NY NJ PA OH by Orlando Abarzua ...'\n",
      " 'Latinos en todo Massachusetts USA' 'Latinos in Tennessee'\n",
      " 'Latinos en Orlando Florida' 'Latinos en Clarksville Tennessee'\n",
      " 'Latinos en Missouri'\n",
      " 'LGBTQ LATINOS, BOSTON, RHODE ISLAND, CONNECTICUT, NEW YORK Y NEW JERSEY.'\n",
      " 'Latinos se unen en Orlando y Kissimmee Florida'\n",
      " 'Latinos San Diego/Tijuana' 'Latinos de Boulder County'\n",
      " 'Buffalo, New York, West Side Latinos Stand Up !!!!!!'\n",
      " 'Latinos en Madison, Wisconsin' 'Craigslista Latinos en Minnesota'\n",
      " 'Latinos Unidos en murfreesboro tennessee' 'The Washington DC Latinos!'\n",
      " 'Negocios Latinos en Wisconsin'\n",
      " 'Richmond,Oakland,San Francisco, San Jose y los alrededores.,Latinos'\n",
      " 'Latinos en Dallas - Fort Worth' 'Latinos En Atlanta Official'\n",
      " 'Latinos en Plainfields' 'Latinos Columbus'\n",
      " 'Marketing  Latinos en Atlanta  ( USA )' 'Latinos en SALT LAKE CITY'\n",
      " 'TRABAJO EN SAVANNAH PARA LATINOS' 'Latinos en utah' 'Latinos en SWFL'\n",
      " 'Latinos en los Angeles California compra y venta'\n",
      " 'Latinos en Tampa Bay official' 'Latino Mix Houston' 'Latino Mix Chicago'\n",
      " 'Miami-Dade Cuban-American Dems' 'La Mesa Boricua de Florida'\n",
      " 'Latino Mix Dallas' 'Afro-Latino Festival of New York'\n",
      " 'VACOLAO - Virginia Coalition of Latino Organizations'\n",
      " 'Hispanic Heritage Council of Western New York Inc.'\n",
      " \"Hispanic Women's Network of Texas\"\n",
      " 'Washington Office on Latin America - WOLA'\n",
      " 'New York Latin Culture Magazine'\n",
      " 'Association of Hispanic School Administrators of Dallas ISD'\n",
      " 'Virginia Hispanic Chamber of Commerce' 'Consulado Peru En Dallas'\n",
      " 'Latino Mix Phoenix' 'Latin New York' 'Chicago Latino Network'\n",
      " 'Massachusetts Association of Hispanic Attorneys'\n",
      " 'Nebraska Latino American Commission'\n",
      " 'Ohio Commission on Hispanic/Latino Affairs (OCHLA)'\n",
      " 'San Diego County Hispanic Chamber of Commerce'\n",
      " 'Pennsylvania Commission on Latino Affairs' 'Houston Latina Bloggers'\n",
      " 'Chicago Latino Writers Initiative' 'New Mexico Hispanic Bar Association'\n",
      " 'MIAMI LATIN NEWS' 'El Sol Latino Newspaper Miami'\n",
      " 'Washington State Commission on Hispanic Affairs'\n",
      " 'Society of Hispanic Professional Engineers - Michigan Tech'\n",
      " 'San Francisco Latino Historical Society' 'Latino Muslims of Chicago'\n",
      " 'Chicago Teachers Union Latinx Caucus'\n",
      " 'GWHCC - Greater Washington Hispanic Chamber of Commerce'\n",
      " 'Washington Hispanic Newspaper' 'Nebraska Hispanic Chamber of Commerce'\n",
      " 'New York State  Black Puerto Rican Hispanic and Asian Legislative Caucus'\n",
      " 'University of Michigan Center for Latin American & Caribbean Studies'\n",
      " 'Latino Giving Houston' 'Chicago Hispanic Health Coalition'\n",
      " 'Latinos / Hispanics Over 40 New York NY']\n"
     ]
    }
   ],
   "source": [
    "print(len(cond))\n",
    "#v is index\n",
    "v = []\n",
    "for x in range(len(com['name'])):\n",
    "    if com['name'][x] in cond:\n",
    "        v.append(x)\n",
    "\n",
    "print(len(v))\n",
    "for i in v:\n",
    "    pol = pol.append(com.iloc[i])\n",
    "\n",
    "com.drop(\n",
    "    labels = v,\n",
    "    axis =0,\n",
    "    inplace=True\n",
    ")\n",
    "\n",
    "pol.tail()\n",
    "print(com.name.unique())"
   ]
  },
  {
   "cell_type": "code",
   "execution_count": 7,
   "id": "auburn-factor",
   "metadata": {},
   "outputs": [
    {
     "name": "stdout",
     "output_type": "stream",
     "text": [
      "1150\n",
      "['Hispanos unidos en New York (H.U.N.Y)' 'Hispanos en Columbus Ohio'\n",
      " 'Hispanos en Oklahoma' 'Hispanos Unidos De Michigan'\n",
      " 'Hispanos en West Palm Beach FL'\n",
      " 'Hispanos en Massachusetts Online Compras & Ventas'\n",
      " 'Comunidad Latina de New Jersey - Latino Community of NJ'\n",
      " 'Latino Outdoors Washington'\n",
      " 'Mundo Latino Network Group Nebraska, Iowa y South Dakota'\n",
      " 'Pennsylvania News Latino' 'Utah Latino Empowerment OutReach Network'\n",
      " 'MIAMI LATIN FESTIVAL' 'LATIN EVENTS SOUTH CAROLINA'\n",
      " 'BACHATA LATIN DANCE SAN DIEGO'\n",
      " 'Columbus Ohio - Comunidad Latina y Trabajo Disponible'\n",
      " 'Boston, Massachusetts Fuerza Latina, Trabajos, Promotiones, Apartamentos'\n",
      " 'RED LATINA NEW YORK' 'America Latina en Orlando FL'\n",
      " 'Hispanic Heritage Matters in Texas' 'Ticos en New Jersey'\n",
      " 'Ticos en Orlando' 'Ticos en Miami Dade' 'Ticos en Houston, Texas'\n",
      " 'Ticos Unidos En Dallas' 'Ticos En Miami' 'Ticos en miami'\n",
      " 'TICOS EN NEW JERSEY & NEW YORK' 'Boricuas en San Antonio,TX'\n",
      " 'Boricuas en Dallas Y Fort Worth' 'BORICUAS 100 X 35 EN NORTH CAROLINA'\n",
      " 'BORICUAS EN KISSIMMEE Y ORLANDO' 'Boricuas en Orlando VIP'\n",
      " 'BORICUAS EN PALM BEACH' 'Boricuas en Miami'\n",
      " 'BORICUAS EN CHARLOTTE NORTH CAROLINA' 'Boricuas en Killeen Texas'\n",
      " 'Boricuas Fajones en Texas' 'Boricuas Alegres en West Palm Beach'\n",
      " 'Negocios Boricuas en Houston' 'BORICUAS EN CHICAGO' 'Boricuas en Texas'\n",
      " 'Boricuas en Dallas-Fort Worth, Texas'\n",
      " 'Boricuas en Miami Broward FortLauderdale Texas' 'JANGUEO BORICUA Miami'\n",
      " 'Soy Boricua en DFW' 'La Fonda Boricua in New York City'\n",
      " 'Nicas Autoconvocados en Miami' 'Nicas Unidos En Miami'\n",
      " 'Nicas en San Francisco' 'Nicas en Miami' 'Nicas en Virginia, Md,Dc'\n",
      " 'Argentinos En New Jersey 🇦🇷 Oficial' 'Argentinos en Miami'\n",
      " '\"ARGENTINOS EN MIAMI\"' 'argentinos en new jersey'\n",
      " 'Mexican parranda party en New York' 'San Diego LGBTQ Latinx Coalition'\n",
      " 'Venezolanos en Miami' 'Venezolanos viviendo en Miami '\n",
      " 'Venezolanos en Orlando' 'Venezolanos En Orlando'\n",
      " 'Venezolanos en Dallas - Fort Worth' 'Venezolanos en Kissimmee'\n",
      " 'Venezolanos en Chicago' 'Venezolanos en new jersey'\n",
      " 'venezolanos en Orlando and Kissimmee'\n",
      " 'Venezolanos Unidos en D.C. Maryland & Virginia'\n",
      " 'Venezolanos en Washington D.C, Virginia and Maryland'\n",
      " 'Venezolanos unidos de Utah' 'Venezolanos en San Francisco'\n",
      " 'Venezolanos en Columbus Ohio' 'Venezolanos en Minnesota'\n",
      " 'Venezolanos en San Diego y Tijuana Baja California'\n",
      " 'Venezolanos en Utah' 'Venezolanos en Indiana, Illinois, Ohio, Michigan'\n",
      " 'Venezolanos en North Dallas - Addison - Carrolton - Famers Branch Etc'\n",
      " 'Venezolanos en north carolina (ventas)' 'Venezolanos en Rhode Island'\n",
      " 'Peruanos en DC, Maryland & Virginia (DMV)' 'PERUANOS EN NORTH DALLAS'\n",
      " 'Salvadoreños en San Francisco' 'SALVADOREÑOS EN HOUSTON®'\n",
      " 'Salvadoreños en Houston TX' 'Guatemaltecos en Miami'\n",
      " 'Hondureños en Dallas' 'Hondureños En Houston Texas'\n",
      " 'Hondureños en Dallas Fort  Worth' 'HONDUREÑOS EN DALLAS, TX.'\n",
      " 'HONDUREÑOS EN HOUSTON, TX.'\n",
      " 'hondureños viviendo en miami: compra vende regala intercambia'\n",
      " 'hondureños en west palm beach y sus alrededores'\n",
      " 'Mexicanos en Texas 🇲🇽🇺🇸' 'Mexicanos unidos de utah'\n",
      " 'Mexicanos en st Louis Missouri' 'Mexicanos En North Carolina'\n",
      " 'Mexicanos en Houston' 'MEXICANOS EN TENNESSEE' 'Mexicanos en Chicago'\n",
      " 'MEXICANOS EN OHIO'\n",
      " 'Mexicanos Unidos en Tri Estatal\\nNew York, New Jersey,Manhhatan Connecticut.'\n",
      " 'Mexicanos en San Francisco California'\n",
      " 'MEXICANOS UNIDOS DE HAVERSTRAW NEW YORK'\n",
      " 'Mexicanos y Latinos en Montana' 'Cubanos en miami,fl'\n",
      " 'CUBANOS EN HOUSTON Y MÁS' 'CUBANOS EN HOUSTON'\n",
      " 'CUBANOS EN ORLANDO,FLORIDA' 'Cubanos en Chicago'\n",
      " 'Cubanos en Somos Miami' 'Cubanos en Dallas' '+ Cubanos en Miami 🇨🇺'\n",
      " 'Cubanos en New Jersey, New York , Pennsylvania y Connecticut. Unete'\n",
      " 'Cubanos En Dallas' 'CUBANOS EN ORLANDO' 'Cubanos en North Carolina'\n",
      " \"Cubans and Hispanics who grew up in Miami during the 60's and 70's\"\n",
      " 'Dominicanos en Houston' 'Dominicanos en Miami Y USA'\n",
      " 'Dominicanos en Orlando.' 'Dominicanos en orlando kissimmee'\n",
      " 'Dominicanos en Rhode Island' 'Ecuatorianos en Orlando'\n",
      " 'ECUATORIANOS en NEW YORK (NY)' 'ECUATORIANOS EN NEW YORK &  NEW JERSEY'\n",
      " 'ECUATORIANOS EN LA CIUDAD DE NEW YORK'\n",
      " 'Ecuatorianos en Virginia-DC-Maryland' 'ECUATORIANOS EN NEW YORK'\n",
      " 'Ecuatorianos  En Chicago' 'Ecuatorianos en La Florida'\n",
      " 'Colombianos Venezolanos Mexicanos Latinos en Katy'\n",
      " 'MUSICOS MEXICANOS EN NUEVA YORK - NEW JERSEY'\n",
      " 'Mexicanos en Florida Central' 'Mexicanos en California 🇲🇽🇺🇸'\n",
      " 'Mexicanos en Arizona 🇲🇽🇺🇸' 'Mexicanos en California USA u otros estados'\n",
      " 'Mexicanos En Connecticut' 'Latinos en Florida, Broward & Miami Dade'\n",
      " 'Latinos en Compro y Vendo en St Louis Missouri' 'LATINOS EN NEW YORK'\n",
      " 'latinos en maryland , washington dc y virginia '\n",
      " 'Latinos en New Jersey (NJ) y New York (NY)' '☀️ Latinos en Miami 🌴'\n",
      " 'latinos en New York' 'Latinos en Minnesota' 'Latinos en Texas'\n",
      " 'Latinos in Tech - Washington' 'Latinos Unidos En Massachusetts'\n",
      " 'Pennsylvania Latinos' 'Peruanos Unidos en DC, Maryland & Virginia'\n",
      " 'peruanos  en new  york y new jersey  de todas las sangres'\n",
      " 'Peruanos en New Jersey' 'Peruanos en Massachusetts'\n",
      " 'Peruanos En Massachusetts MP' 'Peruanos en Orlando, Fl'\n",
      " 'Peruvian Americans of New Jersey USA  Peruanos Americanos de New Jersey USA'\n",
      " 'APU Asociación Peruanos Unidos de Massachusetts' 'Peruanos en Chicago'\n",
      " 'Peruanos en Utah' 'Peruanos de Corazon NY NJ' 'PERUANOS EN FLORIDA'\n",
      " 'VENEZOLANOS EN  KATY,TX' 'Venezolanos en Colorado'\n",
      " 'Venezolanos en Charlotte NC' 'Grupo de Venezolanos Activos en Georgia'\n",
      " 'Venezolanos en Nashville' 'Venezolanos en La Florida'\n",
      " 'Ciudadanos Venezolanos en Atlanta.' 'Venezolanos en Florida.'\n",
      " 'Venezolanos Solidarios En Kendall' 'Venezolanos En Tampa Bay Oficial'\n",
      " 'Venezolanos en NY' 'Venezolanos en Boston'\n",
      " 'Oakland Latinos United (Unidos)' 'Acción y Alertas Latinos Wisconsin'\n",
      " 'Latinos en Houston Texas' 'Latinos en Charlotte North Carolina'\n",
      " 'Chilenos Latinos unidos en NY NJ PA OH by Orlando Abarzua ...'\n",
      " 'Latinos en todo Massachusetts USA' 'Latinos in Tennessee'\n",
      " 'Latinos en Orlando Florida' 'Latinos en Clarksville Tennessee'\n",
      " 'Latinos en Missouri'\n",
      " 'LGBTQ LATINOS, BOSTON, RHODE ISLAND, CONNECTICUT, NEW YORK Y NEW JERSEY.'\n",
      " 'Latinos se unen en Orlando y Kissimmee Florida'\n",
      " 'Latinos San Diego/Tijuana' 'Latinos de Boulder County'\n",
      " 'Buffalo, New York, West Side Latinos Stand Up !!!!!!'\n",
      " 'Latinos en Madison, Wisconsin' 'Craigslista Latinos en Minnesota'\n",
      " 'Latinos Unidos en murfreesboro tennessee' 'The Washington DC Latinos!'\n",
      " 'Negocios Latinos en Wisconsin'\n",
      " 'Richmond,Oakland,San Francisco, San Jose y los alrededores.,Latinos'\n",
      " 'Latinos en Dallas - Fort Worth' 'Latinos En Atlanta Official'\n",
      " 'Latinos en Plainfields' 'Latinos Columbus'\n",
      " 'Marketing  Latinos en Atlanta  ( USA )' 'Latinos en SALT LAKE CITY'\n",
      " 'TRABAJO EN SAVANNAH PARA LATINOS' 'Latinos en utah' 'Latinos en SWFL'\n",
      " 'Latinos en los Angeles California compra y venta'\n",
      " 'Latinos en Tampa Bay official' 'Latino Mix Houston' 'Latino Mix Chicago'\n",
      " 'Miami-Dade Cuban-American Dems' 'La Mesa Boricua de Florida'\n",
      " 'Latino Mix Dallas' 'Afro-Latino Festival of New York'\n",
      " 'VACOLAO - Virginia Coalition of Latino Organizations'\n",
      " 'Hispanic Heritage Council of Western New York Inc.'\n",
      " \"Hispanic Women's Network of Texas\"\n",
      " 'Washington Office on Latin America - WOLA'\n",
      " 'New York Latin Culture Magazine'\n",
      " 'Association of Hispanic School Administrators of Dallas ISD'\n",
      " 'Virginia Hispanic Chamber of Commerce' 'Consulado Peru En Dallas'\n",
      " 'Latino Mix Phoenix' 'Latin New York' 'Chicago Latino Network'\n",
      " 'Massachusetts Association of Hispanic Attorneys'\n",
      " 'Nebraska Latino American Commission'\n",
      " 'Ohio Commission on Hispanic/Latino Affairs (OCHLA)'\n",
      " 'San Diego County Hispanic Chamber of Commerce'\n",
      " 'Pennsylvania Commission on Latino Affairs' 'Houston Latina Bloggers'\n",
      " 'Chicago Latino Writers Initiative' 'New Mexico Hispanic Bar Association'\n",
      " 'MIAMI LATIN NEWS' 'El Sol Latino Newspaper Miami'\n",
      " 'Washington State Commission on Hispanic Affairs'\n",
      " 'Society of Hispanic Professional Engineers - Michigan Tech'\n",
      " 'San Francisco Latino Historical Society' 'Latino Muslims of Chicago'\n",
      " 'Chicago Teachers Union Latinx Caucus'\n",
      " 'GWHCC - Greater Washington Hispanic Chamber of Commerce'\n",
      " 'Washington Hispanic Newspaper' 'Nebraska Hispanic Chamber of Commerce'\n",
      " 'New York State  Black Puerto Rican Hispanic and Asian Legislative Caucus'\n",
      " 'University of Michigan Center for Latin American & Caribbean Studies'\n",
      " 'Latino Giving Houston' 'Chicago Hispanic Health Coalition'\n",
      " 'Latinos / Hispanics Over 40 New York NY']\n",
      "244\n"
     ]
    }
   ],
   "source": [
    "print(len(com))\n",
    "print(com.name.unique())\n",
    "temp = []\n",
    "temp = com.name.unique()\n",
    "print(len(temp))"
   ]
  },
  {
   "cell_type": "code",
   "execution_count": 8,
   "id": "turned-stupid",
   "metadata": {},
   "outputs": [
    {
     "name": "stdout",
     "output_type": "stream",
     "text": [
      "1150\n",
      "1670\n",
      "2377\n"
     ]
    }
   ],
   "source": [
    "print(len(com))\n",
    "print(len(pol))\n",
    "print(len(news))"
   ]
  },
  {
   "cell_type": "code",
   "execution_count": 9,
   "id": "rolled-former",
   "metadata": {},
   "outputs": [
    {
     "data": {
      "text/html": [
       "<div>\n",
       "<style scoped>\n",
       "    .dataframe tbody tr th:only-of-type {\n",
       "        vertical-align: middle;\n",
       "    }\n",
       "\n",
       "    .dataframe tbody tr th {\n",
       "        vertical-align: top;\n",
       "    }\n",
       "\n",
       "    .dataframe thead th {\n",
       "        text-align: right;\n",
       "    }\n",
       "</style>\n",
       "<table border=\"1\" class=\"dataframe\">\n",
       "  <thead>\n",
       "    <tr style=\"text-align: right;\">\n",
       "      <th></th>\n",
       "      <th>name</th>\n",
       "      <th>group</th>\n",
       "      <th>frequency</th>\n",
       "    </tr>\n",
       "  </thead>\n",
       "  <tbody>\n",
       "    <tr>\n",
       "      <th>0</th>\n",
       "      <td>Hispanos unidos en New York (H.U.N.Y)</td>\n",
       "      <td>Community</td>\n",
       "      <td>8</td>\n",
       "    </tr>\n",
       "    <tr>\n",
       "      <th>1</th>\n",
       "      <td>Hispanos en Columbus Ohio</td>\n",
       "      <td>Community</td>\n",
       "      <td>3</td>\n",
       "    </tr>\n",
       "    <tr>\n",
       "      <th>2</th>\n",
       "      <td>Hispanos en Oklahoma</td>\n",
       "      <td>Community</td>\n",
       "      <td>2</td>\n",
       "    </tr>\n",
       "    <tr>\n",
       "      <th>3</th>\n",
       "      <td>Hispanos Unidos De Michigan</td>\n",
       "      <td>Community</td>\n",
       "      <td>1</td>\n",
       "    </tr>\n",
       "    <tr>\n",
       "      <th>4</th>\n",
       "      <td>Hispanos en West Palm Beach FL</td>\n",
       "      <td>Community</td>\n",
       "      <td>4</td>\n",
       "    </tr>\n",
       "    <tr>\n",
       "      <th>...</th>\n",
       "      <td>...</td>\n",
       "      <td>...</td>\n",
       "      <td>...</td>\n",
       "    </tr>\n",
       "    <tr>\n",
       "      <th>609</th>\n",
       "      <td>La Noticia de MS</td>\n",
       "      <td>News</td>\n",
       "      <td>2</td>\n",
       "    </tr>\n",
       "    <tr>\n",
       "      <th>610</th>\n",
       "      <td>Miniondas Newspaper</td>\n",
       "      <td>News</td>\n",
       "      <td>1</td>\n",
       "    </tr>\n",
       "    <tr>\n",
       "      <th>611</th>\n",
       "      <td>La Voz Hispana De Connecticut</td>\n",
       "      <td>News</td>\n",
       "      <td>1</td>\n",
       "    </tr>\n",
       "    <tr>\n",
       "      <th>612</th>\n",
       "      <td>El Mundo Newspaper</td>\n",
       "      <td>News</td>\n",
       "      <td>1</td>\n",
       "    </tr>\n",
       "    <tr>\n",
       "      <th>613</th>\n",
       "      <td>Impacto Latin Newspaper</td>\n",
       "      <td>News</td>\n",
       "      <td>1</td>\n",
       "    </tr>\n",
       "  </tbody>\n",
       "</table>\n",
       "<p>614 rows × 3 columns</p>\n",
       "</div>"
      ],
      "text/plain": [
       "                                      name      group  frequency\n",
       "0    Hispanos unidos en New York (H.U.N.Y)  Community          8\n",
       "1                Hispanos en Columbus Ohio  Community          3\n",
       "2                     Hispanos en Oklahoma  Community          2\n",
       "3              Hispanos Unidos De Michigan  Community          1\n",
       "4           Hispanos en West Palm Beach FL  Community          4\n",
       "..                                     ...        ...        ...\n",
       "609                       La Noticia de MS       News          2\n",
       "610                    Miniondas Newspaper       News          1\n",
       "611          La Voz Hispana De Connecticut       News          1\n",
       "612                     El Mundo Newspaper       News          1\n",
       "613                Impacto Latin Newspaper       News          1\n",
       "\n",
       "[614 rows x 3 columns]"
      ]
     },
     "execution_count": 9,
     "metadata": {},
     "output_type": "execute_result"
    }
   ],
   "source": [
    "#column 1 = group, column 2 = 'name' column 3 = 'frequency'\n",
    "\n",
    "group = []\n",
    "name = []\n",
    "frequency = []\n",
    "#community\n",
    "for x in range(len(com)):\n",
    "    \n",
    "    # new row\n",
    "    if com['name'].iloc[x] not in name:\n",
    "        #append new name\n",
    "        name.append(com['name'].iloc[x])\n",
    "        #create new row\n",
    "        group.append('Community')\n",
    "        #give value of 1\n",
    "        frequency.append(1)\n",
    "    else:\n",
    "        v = name.index(com['name'].iloc[x])\n",
    "        frequency[v] +=1\n",
    "\n",
    "#political\n",
    "for x in range(len(pol)):\n",
    "    if pol['name'].iloc[x] not in name:\n",
    "        #append new name\n",
    "        name.append(pol['name'].iloc[x])\n",
    "        #create new row\n",
    "        group.append('Political')\n",
    "        #give value of 1\n",
    "        frequency.append(1)\n",
    "    else:\n",
    "        v = name.index(pol['name'].iloc[x])\n",
    "        frequency[v] +=1\n",
    "        \n",
    "#news\n",
    "for x in range(len(news)):\n",
    "    if news['name'].iloc[x] not in name:\n",
    "        #append new name\n",
    "        name.append(news['name'].iloc[x])\n",
    "        #create new row\n",
    "        group.append('News')\n",
    "        #give value of 1\n",
    "        frequency.append(1)\n",
    "    else:\n",
    "        v = name.index(news['name'].iloc[x])\n",
    "        frequency[v] +=1\n",
    "\n",
    "dict = {'name': name, 'group': group, 'frequency': frequency}\n",
    "df = pd.DataFrame(dict)\n",
    "df"
   ]
  },
  {
   "cell_type": "code",
   "execution_count": 10,
   "id": "educational-powder",
   "metadata": {},
   "outputs": [
    {
     "data": {
      "text/plain": [
       "<seaborn.axisgrid.FacetGrid at 0x124f41588>"
      ]
     },
     "execution_count": 10,
     "metadata": {},
     "output_type": "execute_result"
    },
    {
     "data": {
      "image/png": "[encoded data removed]",
      "text/plain": [
       "<Figure size 720x360 with 1 Axes>"
      ]
     },
     "metadata": {
      "needs_background": "light"
     },
     "output_type": "display_data"
    }
   ],
   "source": [
    "import seaborn as sns\n",
    "\n",
    "sns.catplot(x='group', y = 'frequency', data =df, dodge=True, kind = 'violin', aspect =2)"
   ]
  },
  {
   "cell_type": "code",
   "execution_count": 11,
   "id": "downtown-burst",
   "metadata": {},
   "outputs": [
    {
     "data": {
      "text/plain": [
       "<seaborn.axisgrid.FacetGrid at 0x1273e1e48>"
      ]
     },
     "execution_count": 11,
     "metadata": {},
     "output_type": "execute_result"
    },
    {
     "data": {
      "image/png": "[encoded data removed]",
      "text/plain": [
       "<Figure size 360x360 with 1 Axes>"
      ]
     },
     "metadata": {
      "needs_background": "light"
     },
     "output_type": "display_data"
    }
   ],
   "source": [
    "sns.catplot(x='group', y ='frequency', data=df, kind ='strip')"
   ]
  },
  {
   "cell_type": "code",
   "execution_count": 12,
   "id": "informed-croatia",
   "metadata": {},
   "outputs": [
    {
     "data": {
      "text/plain": [
       "LeveneResult(statistic=9.871790841230775, pvalue=6.033191818349912e-05)"
      ]
     },
     "execution_count": 12,
     "metadata": {},
     "output_type": "execute_result"
    }
   ],
   "source": [
    "#Levene Test\n",
    "import scipy.stats as stats\n",
    "#establish three groups\n",
    "group_col = []\n",
    "group_pol = []\n",
    "group_new = []\n",
    "for x in range(len(df)):\n",
    "    if df['group'][x] == \"Community\":\n",
    "        group_col.append(df['frequency'][x])\n",
    "    if df['group'][x] == \"Political\":\n",
    "        group_pol.append(df['frequency'][x])\n",
    "    if df['group'][x] == \"News\":\n",
    "        group_new.append(df['frequency'][x])\n",
    "        \n",
    "stats.levene(group_col, group_pol, group_new, center='median')"
   ]
  },
  {
   "cell_type": "code",
   "execution_count": 13,
   "id": "included-netscape",
   "metadata": {},
   "outputs": [
    {
     "data": {
      "text/plain": [
       "LeveneResult(statistic=25.286146893555628, pvalue=2.813337547718927e-11)"
      ]
     },
     "execution_count": 13,
     "metadata": {},
     "output_type": "execute_result"
    }
   ],
   "source": [
    "stats.levene(group_col, group_pol, group_new, center='mean')"
   ]
  },
  {
   "cell_type": "code",
   "execution_count": 14,
   "id": "organizational-nursing",
   "metadata": {},
   "outputs": [
    {
     "data": {
      "text/plain": [
       "F_onewayResult(statistic=11.645922593184041, pvalue=1.0870791248478682e-05)"
      ]
     },
     "execution_count": 14,
     "metadata": {},
     "output_type": "execute_result"
    }
   ],
   "source": [
    "stats.f_oneway(group_col, group_pol, group_new)"
   ]
  },
  {
   "cell_type": "code",
   "execution_count": 18,
   "id": "superior-silicon",
   "metadata": {},
   "outputs": [
    {
     "name": "stdout",
     "output_type": "stream",
     "text": [
      "4.717213114754099\n",
      "14.778761061946902\n",
      "9.245136186770427\n"
     ]
    }
   ],
   "source": [
    "import numpy as np\n",
    "print(np.average(group_col))\n",
    "print(np.average(group_pol))\n",
    "print(np.average(group_new))"
   ]
  },
  {
   "cell_type": "code",
   "execution_count": 15,
   "id": "plastic-eating",
   "metadata": {},
   "outputs": [
    {
     "data": {
      "text/plain": [
       "array([[<AxesSubplot:title={'center':'frequency'}>]], dtype=object)"
      ]
     },
     "execution_count": 15,
     "metadata": {},
     "output_type": "execute_result"
    },
    {
     "data": {
      "image/png": "[encoded data removed]",
      "text/plain": [
       "<Figure size 432x288 with 1 Axes>"
      ]
     },
     "metadata": {
      "needs_background": "light"
     },
     "output_type": "display_data"
    }
   ],
   "source": [
    "df.hist(column='frequency')"
   ]
  },
  {
   "cell_type": "code",
   "execution_count": 16,
   "id": "solar-farming",
   "metadata": {},
   "outputs": [
    {
     "data": {
      "text/plain": [
       "<seaborn.axisgrid.FacetGrid at 0x12760df60>"
      ]
     },
     "execution_count": 16,
     "metadata": {},
     "output_type": "execute_result"
    },
    {
     "data": {
      "image/png": "[encoded data removed]",
      "text/plain": [
       "<Figure size 455.6x360 with 1 Axes>"
      ]
     },
     "metadata": {},
     "output_type": "display_data"
    }
   ],
   "source": [
    "sns.set_theme(style=\"darkgrid\")\n",
    "sns.displot(data=df, x=\"frequency\", hue=\"group\", kind=\"kde\")"
   ]
  },
  {
   "cell_type": "code",
   "execution_count": 17,
   "id": "boring-strain",
   "metadata": {},
   "outputs": [
    {
     "data": {
      "text/plain": [
       "<seaborn.axisgrid.FacetGrid at 0x1276dbdd8>"
      ]
     },
     "execution_count": 17,
     "metadata": {},
     "output_type": "execute_result"
    },
    {
     "data": {
      "image/png": "[encoded data removed]",
      "text/plain": [
       "<Figure size 455.6x360 with 1 Axes>"
      ]
     },
     "metadata": {},
     "output_type": "display_data"
    }
   ],
   "source": [
    "sns.displot(data=df, x=\"frequency\", hue=\"group\", multiple=\"stack\")\n"
   ]
  }
 ],
 "metadata": {
  "kernelspec": {
   "display_name": "Python 3",
   "language": "python",
   "name": "python3"
  },
  "language_info": {
   "codemirror_mode": {
    "name": "ipython",
    "version": 3
   },
   "file_extension": ".py",
   "mimetype": "text/x-python",
   "name": "python",
   "nbconvert_exporter": "python",
   "pygments_lexer": "ipython3",
   "version": "3.7.2"
  }
 },
 "nbformat": 4,
 "nbformat_minor": 5
}
