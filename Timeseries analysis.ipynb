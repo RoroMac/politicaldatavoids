{
 "cells": [
  {
   "cell_type": "code",
   "execution_count": 1,
   "id": "adverse-external",
   "metadata": {},
   "outputs": [],
   "source": [
    "import pandas as pd\n",
    "import matplotlib as plt\n",
    "import seaborn as sns\n",
    "\n",
    "\n",
    "#read community file date\n",
    "com = pd.read_csv(\"community/FB_groups_States_abortion.csv\", sep= \",\")\n",
    "com['type'] = 'abortion'\n",
    "\n",
    "df = pd.read_csv(\"community/FB_groups_States_climate_change.csv\", sep=\",\")\n",
    "df['type'] ='climate'\n",
    "com = com.append(df, ignore_index=True)\n",
    "\n",
    "df = pd.read_csv(\"community/FB_groups_States_coronavirus.csv\",sep=\",\")\n",
    "df['type'] ='covid'\n",
    "com = com.append(df, ignore_index=True)\n",
    "\n",
    "df = pd.read_csv(\"community/FB_groups_States_crime.csv\", sep= \",\")\n",
    "df['type'] = 'crime'\n",
    "com = com.append(df, ignore_index=True)\n",
    "\n",
    "df = pd.read_csv(\"community/FB_groups_States_economy.csv\", sep=\",\")\n",
    "df['type'] = 'economy'\n",
    "com = com.append(df, ignore_index=True)\n",
    "\n",
    "df = pd.read_csv(\"community/FB_groups_States_gun_policy.csv\", sep=\",\")\n",
    "df['type'] = 'gun'\n",
    "com = com.append(df, ignore_index=True)\n",
    "\n",
    "df = pd.read_csv(\"community/FB_groups_States_immigration.csv\", sep=\",\")\n",
    "df['type']='immigration'\n",
    "com = com.append(df, ignore_index=True)\n",
    "\n",
    "df = pd.read_csv(\"community/FB_groups_States_racism.csv\", sep=\",\")\n",
    "df['type'] = 'racism'\n",
    "com = com.append(df, ignore_index=True)\n",
    "\n",
    "df = pd.read_csv(\"community/FB_groups_States_supreme_court.csv\", sep=\",\")\n",
    "df['type'] ='supreme'\n",
    "com = com.append(df, ignore_index=True)\n",
    "\n",
    "com['group'] = 'community'"
   ]
  },
  {
   "cell_type": "code",
   "execution_count": 2,
   "id": "blessed-growth",
   "metadata": {},
   "outputs": [],
   "source": [
    "#read political file date\n",
    "pol = pd.read_csv(\"political/Topics_FB_Political_Posts_per_partyabortion.csv\", sep= \",\")\n",
    "pol['type'] = 'abortion'\n",
    "\n",
    "df = pd.read_csv(\"political/Topics_FB_Political_Posts_per_partyclimate_change.csv\", sep=\",\")\n",
    "df['type'] ='climate'\n",
    "pol = pol.append(df, ignore_index=True)\n",
    "\n",
    "df = pd.read_csv(\"political/Topics_FB_Political_Posts_per_partycoronavirus.csv\",sep=\",\")\n",
    "df['type'] ='covid'\n",
    "pol = pol.append(df, ignore_index=True)\n",
    "\n",
    "df = pd.read_csv(\"political/Topics_FB_Political_Posts_per_partycrime.csv\", sep= \",\")\n",
    "df['type'] = 'crime'\n",
    "pol = pol.append(df, ignore_index=True)\n",
    "\n",
    "df = pd.read_csv(\"political/Topics_FB_Political_Posts_per_partyeconomy.csv\", sep=\",\")\n",
    "df['type'] = 'economy'\n",
    "pol = pol.append(df, ignore_index=True)\n",
    "\n",
    "df = pd.read_csv(\"political/Topics_FB_Political_Posts_per_partygun_policy.csv\", sep=\",\")\n",
    "df['type'] = 'gun'\n",
    "pol = pol.append(df, ignore_index=True)\n",
    "\n",
    "df = pd.read_csv(\"political/Topics_FB_Political_Posts_per_partyimmigration.csv\", sep=\",\")\n",
    "df['type']='immigration'\n",
    "pol = pol.append(df, ignore_index=True)\n",
    "\n",
    "df = pd.read_csv(\"political/Topics_FB_Political_Posts_per_partyracism.csv\", sep=\",\")\n",
    "df['type'] = 'racism'\n",
    "pol = pol.append(df, ignore_index=True)\n",
    "\n",
    "df = pd.read_csv(\"political/Topics_FB_Political_Posts_per_partysupreme_court.csv\", sep=\",\")\n",
    "df['type'] ='supreme'\n",
    "pol = pol.append(df, ignore_index=True)\n",
    "\n",
    "pol['group'] = 'political'"
   ]
  },
  {
   "cell_type": "code",
   "execution_count": 3,
   "id": "scheduled-ranch",
   "metadata": {},
   "outputs": [],
   "source": [
    "#read news file date\n",
    "new = pd.read_csv(\"news/FB_groups_News_Media_Outlets_abortion.csv\", sep= \",\")\n",
    "new['type'] = 'abortion'\n",
    "\n",
    "df = pd.read_csv(\"news/FB_groups_News_Media_Outlets_climate_change.csv\", sep=\",\")\n",
    "df['type'] ='climate'\n",
    "new = new.append(df, ignore_index=True)\n",
    "\n",
    "df = pd.read_csv(\"news/FB_groups_News_Media_Outlets_coronavirus.csv\",sep=\",\")\n",
    "df['type'] ='covid'\n",
    "new = new.append(df, ignore_index=True)\n",
    "\n",
    "df = pd.read_csv(\"news/FB_groups_News_Media_Outlets_crime.csv\", sep= \",\")\n",
    "df['type'] = 'crime'\n",
    "new = new.append(df, ignore_index=True)\n",
    "\n",
    "df = pd.read_csv(\"news/FB_groups_News_Media_Outlets_economy.csv\", sep=\",\")\n",
    "df['type'] = 'economy'\n",
    "new = new.append(df, ignore_index=True)\n",
    "\n",
    "df = pd.read_csv(\"news/FB_groups_News_Media_Outlets_gun_policy.csv\", sep=\",\")\n",
    "df['type'] = 'gun'\n",
    "new = new.append(df, ignore_index=True)\n",
    "\n",
    "df = pd.read_csv(\"news/FB_groups_News_Media_Outlets_immigration.csv\", sep=\",\")\n",
    "df['type']='immigration'\n",
    "new = new.append(df, ignore_index=True)\n",
    "\n",
    "df = pd.read_csv(\"news/FB_groups_News_Media_Outlets_racism.csv\", sep=\",\")\n",
    "df['type'] = 'racism'\n",
    "new = new.append(df, ignore_index=True)\n",
    "\n",
    "df = pd.read_csv(\"news/FB_groups_News_Media_Outlets_supreme_court.csv\", sep=\",\")\n",
    "df['type'] ='supreme'\n",
    "new = new.append(df, ignore_index=True)\n",
    "\n",
    "new['group'] = 'news'"
   ]
  },
  {
   "cell_type": "code",
   "execution_count": 4,
   "id": "rough-fever",
   "metadata": {},
   "outputs": [],
   "source": [
    "#remove NaN values in page name and replace with name\n",
    "pol.rename(columns = {'Group Name': 'name'}, inplace=True)\n",
    "new.rename(columns = {'Page Name': 'name'}, inplace=True)\n",
    "com.name.fillna(com['Group Name'], inplace = True)"
   ]
  },
  {
   "cell_type": "code",
   "execution_count": 5,
   "id": "worldwide-twenty",
   "metadata": {},
   "outputs": [
    {
     "name": "stdout",
     "output_type": "stream",
     "text": [
      "1104\n",
      "1104\n"
     ]
    }
   ],
   "source": [
    "#transfer political values to community\n",
    "cond = []\n",
    "\n",
    "temp = com.name.tolist()\n",
    "for x in temp:\n",
    "    if 'Trump' in x:\n",
    "        cond.append(x)\n",
    "    if 'Democr' in x:\n",
    "        cond.append(x)\n",
    "    if 'Repub' in x:\n",
    "        cond.append(x)\n",
    "    if 'repub' in x:\n",
    "        cond.append(x)\n",
    "        \n",
    "print(len(cond))\n",
    "#v is index\n",
    "v = []\n",
    "for x in range(len(com['name'])):\n",
    "    if com['name'][x] in cond:\n",
    "        v.append(x)\n",
    "print \n",
    "\n",
    "print(len(v))\n",
    "for i in v:\n",
    "    pol = pol.append(com.iloc[i])\n",
    "\n",
    "com.drop(\n",
    "    labels = v,\n",
    "    axis =0,\n",
    "    inplace=True\n",
    ")"
   ]
  },
  {
   "cell_type": "code",
   "execution_count": 6,
   "id": "artistic-chemical",
   "metadata": {},
   "outputs": [],
   "source": [
    "t = com\n",
    "t = t.append(pol, ignore_index=True)\n",
    "t = t.append(new, ignore_index=True)"
   ]
  },
  {
   "cell_type": "code",
   "execution_count": 7,
   "id": "about-reynolds",
   "metadata": {},
   "outputs": [
    {
     "name": "stderr",
     "output_type": "stream",
     "text": [
      "/Library/Frameworks/Python.framework/Versions/3.7/lib/python3.7/site-packages/dateutil/parser/_parser.py:1218: UnknownTimezoneWarning: tzname EDT identified but not understood.  Pass `tzinfos` argument in order to correctly return a timezone-aware datetime.  In a future version, this will raise an exception.\n",
      "  category=UnknownTimezoneWarning)\n",
      "/Library/Frameworks/Python.framework/Versions/3.7/lib/python3.7/site-packages/dateutil/parser/_parser.py:1218: UnknownTimezoneWarning: tzname EST identified but not understood.  Pass `tzinfos` argument in order to correctly return a timezone-aware datetime.  In a future version, this will raise an exception.\n",
      "  category=UnknownTimezoneWarning)\n"
     ]
    }
   ],
   "source": [
    "t['converted_date'] = pd.to_datetime(t['Created'])"
   ]
  },
  {
   "cell_type": "code",
   "execution_count": 8,
   "id": "exact-coral",
   "metadata": {},
   "outputs": [],
   "source": [
    "t['converted_date'] = t['converted_date'].dt.date"
   ]
  },
  {
   "cell_type": "code",
   "execution_count": 9,
   "id": "soviet-shame",
   "metadata": {},
   "outputs": [],
   "source": [
    "df = t.groupby(['converted_date', 'group']).count()"
   ]
  },
  {
   "cell_type": "code",
   "execution_count": 10,
   "id": "proof-trauma",
   "metadata": {},
   "outputs": [
    {
     "data": {
      "text/html": [
       "<div>\n",
       "<style scoped>\n",
       "    .dataframe tbody tr th:only-of-type {\n",
       "        vertical-align: middle;\n",
       "    }\n",
       "\n",
       "    .dataframe tbody tr th {\n",
       "        vertical-align: top;\n",
       "    }\n",
       "\n",
       "    .dataframe thead th {\n",
       "        text-align: right;\n",
       "    }\n",
       "</style>\n",
       "<table border=\"1\" class=\"dataframe\">\n",
       "  <thead>\n",
       "    <tr style=\"text-align: right;\">\n",
       "      <th></th>\n",
       "      <th></th>\n",
       "      <th>Unnamed: 0</th>\n",
       "      <th>name</th>\n",
       "      <th>Page or Account URL</th>\n",
       "      <th>List</th>\n",
       "      <th>State</th>\n",
       "      <th>state</th>\n",
       "      <th>Facebook Id</th>\n",
       "      <th>Group Name</th>\n",
       "      <th>User Name</th>\n",
       "      <th>Likes at Posting</th>\n",
       "      <th>...</th>\n",
       "      <th>Sponsor Name</th>\n",
       "      <th>Total Interactions</th>\n",
       "      <th>Overperforming Score</th>\n",
       "      <th>MessageDescr</th>\n",
       "      <th>MessageOnly</th>\n",
       "      <th>type</th>\n",
       "      <th>party</th>\n",
       "      <th>Total Interactions (weighted  —  Likes 1x Shares 1x Comments 1x Love 1x Wow 1x Haha 1x Sad 1x Angry 1x Care 1x )</th>\n",
       "      <th>clean_url</th>\n",
       "      <th>Facebook</th>\n",
       "    </tr>\n",
       "    <tr>\n",
       "      <th>converted_date</th>\n",
       "      <th>group</th>\n",
       "      <th></th>\n",
       "      <th></th>\n",
       "      <th></th>\n",
       "      <th></th>\n",
       "      <th></th>\n",
       "      <th></th>\n",
       "      <th></th>\n",
       "      <th></th>\n",
       "      <th></th>\n",
       "      <th></th>\n",
       "      <th></th>\n",
       "      <th></th>\n",
       "      <th></th>\n",
       "      <th></th>\n",
       "      <th></th>\n",
       "      <th></th>\n",
       "      <th></th>\n",
       "      <th></th>\n",
       "      <th></th>\n",
       "      <th></th>\n",
       "      <th></th>\n",
       "    </tr>\n",
       "  </thead>\n",
       "  <tbody>\n",
       "    <tr>\n",
       "      <th rowspan=\"3\" valign=\"top\">2020-08-18</th>\n",
       "      <th>community</th>\n",
       "      <td>330</td>\n",
       "      <td>330</td>\n",
       "      <td>309</td>\n",
       "      <td>309</td>\n",
       "      <td>309</td>\n",
       "      <td>309</td>\n",
       "      <td>330</td>\n",
       "      <td>330</td>\n",
       "      <td>21</td>\n",
       "      <td>302</td>\n",
       "      <td>...</td>\n",
       "      <td>0</td>\n",
       "      <td>330</td>\n",
       "      <td>330</td>\n",
       "      <td>330</td>\n",
       "      <td>330</td>\n",
       "      <td>330</td>\n",
       "      <td>0</td>\n",
       "      <td>0</td>\n",
       "      <td>0</td>\n",
       "      <td>0</td>\n",
       "    </tr>\n",
       "    <tr>\n",
       "      <th>news</th>\n",
       "      <td>983</td>\n",
       "      <td>983</td>\n",
       "      <td>0</td>\n",
       "      <td>0</td>\n",
       "      <td>983</td>\n",
       "      <td>0</td>\n",
       "      <td>983</td>\n",
       "      <td>0</td>\n",
       "      <td>978</td>\n",
       "      <td>975</td>\n",
       "      <td>...</td>\n",
       "      <td>4</td>\n",
       "      <td>983</td>\n",
       "      <td>983</td>\n",
       "      <td>983</td>\n",
       "      <td>983</td>\n",
       "      <td>983</td>\n",
       "      <td>0</td>\n",
       "      <td>983</td>\n",
       "      <td>983</td>\n",
       "      <td>978</td>\n",
       "    </tr>\n",
       "    <tr>\n",
       "      <th>political</th>\n",
       "      <td>42</td>\n",
       "      <td>42</td>\n",
       "      <td>0</td>\n",
       "      <td>0</td>\n",
       "      <td>0</td>\n",
       "      <td>0</td>\n",
       "      <td>42</td>\n",
       "      <td>0</td>\n",
       "      <td>6</td>\n",
       "      <td>33</td>\n",
       "      <td>...</td>\n",
       "      <td>0</td>\n",
       "      <td>42</td>\n",
       "      <td>42</td>\n",
       "      <td>42</td>\n",
       "      <td>42</td>\n",
       "      <td>42</td>\n",
       "      <td>42</td>\n",
       "      <td>0</td>\n",
       "      <td>0</td>\n",
       "      <td>0</td>\n",
       "    </tr>\n",
       "    <tr>\n",
       "      <th rowspan=\"2\" valign=\"top\">2020-08-19</th>\n",
       "      <th>community</th>\n",
       "      <td>343</td>\n",
       "      <td>343</td>\n",
       "      <td>325</td>\n",
       "      <td>325</td>\n",
       "      <td>325</td>\n",
       "      <td>325</td>\n",
       "      <td>343</td>\n",
       "      <td>343</td>\n",
       "      <td>18</td>\n",
       "      <td>317</td>\n",
       "      <td>...</td>\n",
       "      <td>0</td>\n",
       "      <td>343</td>\n",
       "      <td>343</td>\n",
       "      <td>343</td>\n",
       "      <td>343</td>\n",
       "      <td>343</td>\n",
       "      <td>0</td>\n",
       "      <td>0</td>\n",
       "      <td>0</td>\n",
       "      <td>0</td>\n",
       "    </tr>\n",
       "    <tr>\n",
       "      <th>news</th>\n",
       "      <td>912</td>\n",
       "      <td>912</td>\n",
       "      <td>0</td>\n",
       "      <td>0</td>\n",
       "      <td>912</td>\n",
       "      <td>0</td>\n",
       "      <td>912</td>\n",
       "      <td>0</td>\n",
       "      <td>907</td>\n",
       "      <td>909</td>\n",
       "      <td>...</td>\n",
       "      <td>1</td>\n",
       "      <td>912</td>\n",
       "      <td>912</td>\n",
       "      <td>912</td>\n",
       "      <td>912</td>\n",
       "      <td>912</td>\n",
       "      <td>0</td>\n",
       "      <td>912</td>\n",
       "      <td>912</td>\n",
       "      <td>906</td>\n",
       "    </tr>\n",
       "  </tbody>\n",
       "</table>\n",
       "<p>5 rows × 44 columns</p>\n",
       "</div>"
      ],
      "text/plain": [
       "                          Unnamed: 0  name  Page or Account URL  List  State  \\\n",
       "converted_date group                                                           \n",
       "2020-08-18     community         330   330                  309   309    309   \n",
       "               news              983   983                    0     0    983   \n",
       "               political          42    42                    0     0      0   \n",
       "2020-08-19     community         343   343                  325   325    325   \n",
       "               news              912   912                    0     0    912   \n",
       "\n",
       "                          state  Facebook Id  Group Name  User Name  \\\n",
       "converted_date group                                                  \n",
       "2020-08-18     community    309          330         330         21   \n",
       "               news           0          983           0        978   \n",
       "               political      0           42           0          6   \n",
       "2020-08-19     community    325          343         343         18   \n",
       "               news           0          912           0        907   \n",
       "\n",
       "                          Likes at Posting  ...  Sponsor Name  \\\n",
       "converted_date group                        ...                 \n",
       "2020-08-18     community               302  ...             0   \n",
       "               news                    975  ...             4   \n",
       "               political                33  ...             0   \n",
       "2020-08-19     community               317  ...             0   \n",
       "               news                    909  ...             1   \n",
       "\n",
       "                          Total Interactions  Overperforming Score  \\\n",
       "converted_date group                                                 \n",
       "2020-08-18     community                 330                   330   \n",
       "               news                      983                   983   \n",
       "               political                  42                    42   \n",
       "2020-08-19     community                 343                   343   \n",
       "               news                      912                   912   \n",
       "\n",
       "                          MessageDescr  MessageOnly  type  party  \\\n",
       "converted_date group                                               \n",
       "2020-08-18     community           330          330   330      0   \n",
       "               news                983          983   983      0   \n",
       "               political            42           42    42     42   \n",
       "2020-08-19     community           343          343   343      0   \n",
       "               news                912          912   912      0   \n",
       "\n",
       "                          Total Interactions (weighted  —  Likes 1x Shares 1x Comments 1x Love 1x Wow 1x Haha 1x Sad 1x Angry 1x Care 1x )  \\\n",
       "converted_date group                                                                                                                         \n",
       "2020-08-18     community                                                  0                                                                  \n",
       "               news                                                     983                                                                  \n",
       "               political                                                  0                                                                  \n",
       "2020-08-19     community                                                  0                                                                  \n",
       "               news                                                     912                                                                  \n",
       "\n",
       "                          clean_url  Facebook  \n",
       "converted_date group                           \n",
       "2020-08-18     community          0         0  \n",
       "               news             983       978  \n",
       "               political          0         0  \n",
       "2020-08-19     community          0         0  \n",
       "               news             912       906  \n",
       "\n",
       "[5 rows x 44 columns]"
      ]
     },
     "execution_count": 10,
     "metadata": {},
     "output_type": "execute_result"
    }
   ],
   "source": [
    "df.head()"
   ]
  },
  {
   "cell_type": "code",
   "execution_count": 11,
   "id": "hollow-ethiopia",
   "metadata": {},
   "outputs": [],
   "source": [
    "#counts number of all political topic mentions per day per facebook category\n",
    "a = 0\n",
    "count = 3\n",
    "\n",
    "for index, row in df.iterrows():\n",
    "    if index[0] != a:\n",
    "        if count != 3:\n",
    "            print(index[0])\n",
    "        count = 0\n",
    "        a = index[0]\n",
    "    count = count + 1"
   ]
  },
  {
   "cell_type": "code",
   "execution_count": 12,
   "id": "liable-feeding",
   "metadata": {},
   "outputs": [
    {
     "name": "stdout",
     "output_type": "stream",
     "text": [
      "78\n",
      "78\n",
      "78\n",
      "78\n"
     ]
    }
   ],
   "source": [
    "community = []\n",
    "political = []\n",
    "news = []\n",
    "date = []\n",
    "\n",
    "for index, row in df.iterrows():\n",
    "    if index[0] not in date:\n",
    "        date.append(index[0])\n",
    "    if index[1] == 'community':\n",
    "        community.append(row[0])\n",
    "    if index[1] == 'news':\n",
    "        news.append(row[0])\n",
    "    if index[1] == 'political':\n",
    "        political.append(row[0])\n",
    "        \n",
    "print(len(community))\n",
    "print(len(political))\n",
    "print(len(news))\n",
    "print(len(date))"
   ]
  },
  {
   "cell_type": "code",
   "execution_count": 14,
   "id": "growing-tribute",
   "metadata": {},
   "outputs": [],
   "source": [
    "dc = {'date': date, 'community':community, \"news\": news, \"political\": political}"
   ]
  },
  {
   "cell_type": "code",
   "execution_count": 15,
   "id": "laughing-attendance",
   "metadata": {},
   "outputs": [],
   "source": [
    "dc = pd.DataFrame(dc)"
   ]
  },
  {
   "cell_type": "code",
   "execution_count": 16,
   "id": "wireless-usage",
   "metadata": {},
   "outputs": [
    {
     "name": "stdout",
     "output_type": "stream",
     "text": [
      "[330, 343, 329, 268, 206, 183, 322, 381, 343, 283, 311, 224, 142, 409, 341, 457, 357, 391, 172, 152, 299, 384, 311, 431, 318, 217, 158, 350, 378, 407, 482, 342, 210, 188, 327, 385, 339, 332, 340, 189, 147, 381, 404, 327, 358, 430, 291, 197, 385, 365, 368, 390, 334, 237, 207, 301, 347, 381, 338, 358, 217, 190, 338, 363, 523, 408, 407, 242, 200, 401, 341, 430, 431, 361, 256, 238, 346, 380]\n"
     ]
    }
   ],
   "source": [
    "print(community)"
   ]
  },
  {
   "cell_type": "code",
   "execution_count": 18,
   "id": "external-network",
   "metadata": {},
   "outputs": [
    {
     "data": {
      "text/plain": [
       "<AxesSubplot:xlabel='date'>"
      ]
     },
     "execution_count": 18,
     "metadata": {},
     "output_type": "execute_result"
    },
    {
     "data": {
      "image/png": "[encoded data removed]",
      "text/plain": [
       "<Figure size 432x288 with 1 Axes>"
      ]
     },
     "metadata": {
      "needs_background": "light"
     },
     "output_type": "display_data"
    }
   ],
   "source": [
    "dc = dc.set_index((dc.date), drop = True)\n",
    "\n",
    "dc.index = pd.DatetimeIndex(dc.index)\n",
    "\n",
    "dc.community.plot(grid=True, label=\"community\", legend=True)\n",
    "dc.political.plot(grid=True, label=\"political\", legend=True)\n",
    "dc.news.plot(grid=True,label=\"news\", legend=True)"
   ]
  },
  {
   "cell_type": "markdown",
   "id": "central-baking",
   "metadata": {},
   "source": [
    "\n",
    "dc = dc.set_index(pd.to_datetime(dc.date), drop = True)\n",
    "dc.community.plot(grid=True, label=\"community\", legend=True)\n",
    "dc.political.plot(grid=True, label=\"political\", legend=True)"
   ]
  },
  {
   "cell_type": "code",
   "execution_count": 24,
   "id": "consistent-retention",
   "metadata": {},
   "outputs": [
    {
     "name": "stdout",
     "output_type": "stream",
     "text": [
      "[datetime.date(2020, 8, 18), datetime.date(2020, 8, 19), datetime.date(2020, 8, 20), datetime.date(2020, 8, 21), datetime.date(2020, 8, 22), datetime.date(2020, 8, 23), datetime.date(2020, 8, 24), datetime.date(2020, 8, 25), datetime.date(2020, 8, 26), datetime.date(2020, 8, 27), datetime.date(2020, 8, 28), datetime.date(2020, 8, 29), datetime.date(2020, 8, 30), datetime.date(2020, 8, 31), datetime.date(2020, 9, 1), datetime.date(2020, 9, 2), datetime.date(2020, 9, 3), datetime.date(2020, 9, 4), datetime.date(2020, 9, 5), datetime.date(2020, 9, 6), datetime.date(2020, 9, 7), datetime.date(2020, 9, 8), datetime.date(2020, 9, 9), datetime.date(2020, 9, 10), datetime.date(2020, 9, 11), datetime.date(2020, 9, 12), datetime.date(2020, 9, 13), datetime.date(2020, 9, 14), datetime.date(2020, 9, 15), datetime.date(2020, 9, 16), datetime.date(2020, 9, 17), datetime.date(2020, 9, 18), datetime.date(2020, 9, 19), datetime.date(2020, 9, 20), datetime.date(2020, 9, 21), datetime.date(2020, 9, 22), datetime.date(2020, 9, 23), datetime.date(2020, 9, 24), datetime.date(2020, 9, 25), datetime.date(2020, 9, 26), datetime.date(2020, 9, 27), datetime.date(2020, 9, 28), datetime.date(2020, 9, 29), datetime.date(2020, 9, 30), datetime.date(2020, 10, 1), datetime.date(2020, 10, 2), datetime.date(2020, 10, 3), datetime.date(2020, 10, 4), datetime.date(2020, 10, 5), datetime.date(2020, 10, 6), datetime.date(2020, 10, 7), datetime.date(2020, 10, 8), datetime.date(2020, 10, 9), datetime.date(2020, 10, 10), datetime.date(2020, 10, 11), datetime.date(2020, 10, 12), datetime.date(2020, 10, 13), datetime.date(2020, 10, 14), datetime.date(2020, 10, 15), datetime.date(2020, 10, 16), datetime.date(2020, 10, 17), datetime.date(2020, 10, 18), datetime.date(2020, 10, 19), datetime.date(2020, 10, 20), datetime.date(2020, 10, 21), datetime.date(2020, 10, 22), datetime.date(2020, 10, 23), datetime.date(2020, 10, 24), datetime.date(2020, 10, 25), datetime.date(2020, 10, 26), datetime.date(2020, 10, 27), datetime.date(2020, 10, 28), datetime.date(2020, 10, 29), datetime.date(2020, 10, 30), datetime.date(2020, 10, 31), datetime.date(2020, 11, 1), datetime.date(2020, 11, 2), datetime.date(2020, 11, 3)]\n"
     ]
    }
   ],
   "source": [
    "print(date)"
   ]
  },
  {
   "cell_type": "code",
   "execution_count": 20,
   "id": "lyric-launch",
   "metadata": {},
   "outputs": [
    {
     "name": "stdout",
     "output_type": "stream",
     "text": [
      "78\n",
      "78\n",
      "78\n",
      "78\n"
     ]
    }
   ],
   "source": [
    "community = [0]\n",
    "political = [0]\n",
    "news = [0]\n",
    "date = [0]\n",
    "\n",
    "for index, row in df.iterrows():\n",
    "    if index[0] not in date:\n",
    "        date.append(index[0])\n",
    "    if index[1] == 'community':\n",
    "        community.append(row[0] + community[-1])\n",
    "    if index[1] == 'news':\n",
    "        news.append(row[0] + news[-1])\n",
    "    if index[1] == 'political':\n",
    "        political.append(row[0] + political[-1])\n",
    "\n",
    "        \n",
    "community.pop(0)\n",
    "political.pop(0)\n",
    "news.pop(0)\n",
    "date.pop(0)\n",
    "print(len(community))\n",
    "print(len(political))\n",
    "print(len(news))\n",
    "print(len(date))"
   ]
  },
  {
   "cell_type": "code",
   "execution_count": 21,
   "id": "binding-vehicle",
   "metadata": {},
   "outputs": [],
   "source": [
    "dc = {'date': date, 'community':community, \"news\": news, \"political\": political}"
   ]
  },
  {
   "cell_type": "code",
   "execution_count": 22,
   "id": "judicial-clothing",
   "metadata": {},
   "outputs": [],
   "source": [
    "dc = pd.DataFrame(dc)"
   ]
  },
  {
   "cell_type": "code",
   "execution_count": 23,
   "id": "prepared-tiger",
   "metadata": {},
   "outputs": [
    {
     "data": {
      "text/plain": [
       "<AxesSubplot:xlabel='date'>"
      ]
     },
     "execution_count": 23,
     "metadata": {},
     "output_type": "execute_result"
    },
    {
     "data": {
      "image/png": "[encoded data removed]",
      "text/plain": [
       "<Figure size 432x288 with 1 Axes>"
      ]
     },
     "metadata": {
      "needs_background": "light"
     },
     "output_type": "display_data"
    }
   ],
   "source": [
    "dc = dc.set_index(pd.to_datetime(dc.date), drop = True)\n",
    "dc.community.plot(grid=True, label=\"community\", legend=True)\n",
    "dc.political.plot(grid=True, label=\"political\", legend=True)\n",
    "dc.news.plot(grid=True,label=\"news\", legend=True)"
   ]
  },
  {
   "cell_type": "code",
   "execution_count": null,
   "id": "conceptual-confirmation",
   "metadata": {},
   "outputs": [],
   "source": [
    "date = []\n",
    "\n",
    "for x in t['converted_date']:\n",
    "    if x not in date:\n",
    "        date.append(x)\n",
    "        \n",
    "len(date)"
   ]
  },
  {
   "cell_type": "code",
   "execution_count": 26,
   "id": "hungry-condition",
   "metadata": {},
   "outputs": [
    {
     "ename": "IndexError",
     "evalue": "list assignment index out of range",
     "output_type": "error",
     "traceback": [
      "\u001b[0;31m---------------------------------------------------------------------------\u001b[0m",
      "\u001b[0;31mIndexError\u001b[0m                                Traceback (most recent call last)",
      "\u001b[0;32m<ipython-input-26-16d2ea4fcb49>\u001b[0m in \u001b[0;36m<module>\u001b[0;34m\u001b[0m\n\u001b[1;32m     22\u001b[0m     \u001b[0msupreme\u001b[0m\u001b[0;34m.\u001b[0m\u001b[0mappend\u001b[0m\u001b[0;34m(\u001b[0m\u001b[0;36m0\u001b[0m\u001b[0;34m)\u001b[0m\u001b[0;34m\u001b[0m\u001b[0;34m\u001b[0m\u001b[0m\n\u001b[1;32m     23\u001b[0m     \u001b[0mtotal\u001b[0m\u001b[0;34m.\u001b[0m\u001b[0mappend\u001b[0m\u001b[0;34m(\u001b[0m\u001b[0;36m0\u001b[0m\u001b[0;34m)\u001b[0m\u001b[0;34m\u001b[0m\u001b[0;34m\u001b[0m\u001b[0m\n\u001b[0;32m---> 24\u001b[0;31m     \u001b[0mndate\u001b[0m\u001b[0;34m[\u001b[0m\u001b[0mi\u001b[0m\u001b[0;34m]\u001b[0m \u001b[0;34m=\u001b[0m \u001b[0mlen\u001b[0m\u001b[0;34m(\u001b[0m\u001b[0mndate\u001b[0m\u001b[0;34m[\u001b[0m\u001b[0;36m0\u001b[0m\u001b[0;34m:\u001b[0m\u001b[0mi\u001b[0m\u001b[0;34m]\u001b[0m\u001b[0;34m)\u001b[0m\u001b[0;34m\u001b[0m\u001b[0;34m\u001b[0m\u001b[0m\n\u001b[0m\u001b[1;32m     25\u001b[0m \u001b[0;34m\u001b[0m\u001b[0m\n\u001b[1;32m     26\u001b[0m \u001b[0;32mfor\u001b[0m \u001b[0mindex\u001b[0m\u001b[0;34m,\u001b[0m \u001b[0mrow\u001b[0m \u001b[0;32min\u001b[0m \u001b[0mt\u001b[0m\u001b[0;34m.\u001b[0m\u001b[0miterrows\u001b[0m\u001b[0;34m(\u001b[0m\u001b[0;34m)\u001b[0m\u001b[0;34m:\u001b[0m\u001b[0;34m\u001b[0m\u001b[0;34m\u001b[0m\u001b[0m\n",
      "\u001b[0;31mIndexError\u001b[0m: list assignment index out of range"
     ]
    }
   ],
   "source": [
    "abortion = []\n",
    "crime = []\n",
    "covid = []\n",
    "climate = []\n",
    "gun = []\n",
    "immigration = []\n",
    "racism = []\n",
    "supreme = []\n",
    "total = []\n",
    "economy = []\n",
    "ndate = []\n",
    "\n",
    "for i in range(len(date)):\n",
    "    abortion.append(0)\n",
    "    crime.append(0)\n",
    "    covid.append(0)\n",
    "    climate.append(0)\n",
    "    economy.append(0)\n",
    "    gun.append(0)\n",
    "    immigration.append(0)\n",
    "    racism.append(0)\n",
    "    supreme.append(0)\n",
    "    total.append(0)\n",
    "    ndate[i] = len(ndate[0:i])\n",
    "\n",
    "for index, row in t.iterrows():\n",
    "    if row['group'] == 'community':\n",
    "        ind = date.index(row['converted_date'])\n",
    "        total[ind] = total[ind] + 1\n",
    "        if row['type'] == 'abortion':\n",
    "            abortion[ind] = abortion[ind] + 1\n",
    "        if row['type'] == 'climate':\n",
    "            climate[ind] = climate[ind] + 1\n",
    "        if row['type'] == 'covid':\n",
    "            covid[ind] = covid[ind] + 1\n",
    "        if row['type'] == 'crime':\n",
    "            crime[ind] = crime[ind] + 1\n",
    "        if row['type'] == 'economy':\n",
    "            economy[ind] = economy[ind] + 1\n",
    "        if row['type'] == 'gun':\n",
    "            gun[ind] = gun[ind] + 1\n",
    "        if row['type'] == 'immigration':\n",
    "            immigration[ind] = immigration[ind] + 1\n",
    "        if row['type'] == 'racism':\n",
    "            racism[ind] = racism[ind] + 1\n",
    "        if row['type'] == 'supreme':\n",
    "            supreme[ind] = supreme[ind] + 1\n",
    "            \n",
    "print(ndate)"
   ]
  },
  {
   "cell_type": "code",
   "execution_count": null,
   "id": "figured-tissue",
   "metadata": {},
   "outputs": [],
   "source": [
    "tc = {'date': date, \"total\":total, 'abortion':abortion, \"crime\": crime, \"covid\": covid, \"economy\": economy, \"gun\": gun, \"immigration\":immigration, \"racism\":racism, \"supreme\":supreme}"
   ]
  },
  {
   "cell_type": "code",
   "execution_count": null,
   "id": "welsh-check",
   "metadata": {},
   "outputs": [],
   "source": [
    "tc = pd.DataFrame(tc)"
   ]
  },
  {
   "cell_type": "code",
   "execution_count": null,
   "id": "fantastic-processing",
   "metadata": {},
   "outputs": [],
   "source": [
    "tc = tc.set_index(pd.to_datetime(tc.date), drop = True)\n",
    "tc.total.plot(grid=True, label=\"total\", legend=True)\n",
    "tc.abortion.plot(grid=True,label='abortion', legend =True)\n",
    "tc.crime.plot(grid=True,label='crime', legend =True)\n",
    "tc.covid.plot(grid=True,label='covid', legend =True)\n",
    "tc.economy.plot(grid=True,label='economy', legend =True)\n",
    "tc.gun.plot(grid=True,label='gun', legend =True)\n",
    "tc.immigration.plot(grid=True,label='immigration', legend =True)\n",
    "tc.racism.plot(grid=True,label='racism', legend =True)\n",
    "tc.supreme.plot(grid=True,label='supreme', legend =True)\n",
    "\n",
    "plt.pyplot.legend(bbox_to_anchor=(1.05, 1), loc =2, borderaxespad=0.)"
   ]
  },
  {
   "cell_type": "code",
   "execution_count": null,
   "id": "driving-plant",
   "metadata": {},
   "outputs": [],
   "source": [
    "for i in range(len(date)):\n",
    "    if i != 0:\n",
    "        l = i -1\n",
    "        total[i] = total[i] + total[l]"
   ]
  },
  {
   "cell_type": "code",
   "execution_count": null,
   "id": "funded-first",
   "metadata": {},
   "outputs": [],
   "source": [
    "print(total)"
   ]
  },
  {
   "cell_type": "code",
   "execution_count": null,
   "id": "occasional-melissa",
   "metadata": {},
   "outputs": [],
   "source": [
    "fc = {'date': date, \"total\":total}"
   ]
  },
  {
   "cell_type": "code",
   "execution_count": null,
   "id": "annual-north",
   "metadata": {},
   "outputs": [],
   "source": [
    "fc = pd.DataFrame(fc)"
   ]
  },
  {
   "cell_type": "code",
   "execution_count": null,
   "id": "lightweight-halifax",
   "metadata": {},
   "outputs": [],
   "source": []
  },
  {
   "cell_type": "code",
   "execution_count": null,
   "id": "verified-environment",
   "metadata": {},
   "outputs": [],
   "source": [
    "sns.lineplot(data=fc, x=\"date\", y=\"total\")"
   ]
  },
  {
   "cell_type": "code",
   "execution_count": null,
   "id": "statutory-niagara",
   "metadata": {},
   "outputs": [],
   "source": []
  }
 ],
 "metadata": {
  "kernelspec": {
   "display_name": "Python 3",
   "language": "python",
   "name": "python3"
  },
  "language_info": {
   "codemirror_mode": {
    "name": "ipython",
    "version": 3
   },
   "file_extension": ".py",
   "mimetype": "text/x-python",
   "name": "python",
   "nbconvert_exporter": "python",
   "pygments_lexer": "ipython3",
   "version": "3.7.2"
  }
 },
 "nbformat": 4,
 "nbformat_minor": 5
}
