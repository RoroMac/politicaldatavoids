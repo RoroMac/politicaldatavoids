{
 "cells": [
  {
   "cell_type": "code",
   "execution_count": 1,
   "id": "organized-lindsay",
   "metadata": {
    "scrolled": false
   },
   "outputs": [],
   "source": [
    "import pandas as pd\n",
    "\n",
    "com = pd.read_csv(\"community/FB_groups_States_climate_change.csv\", sep= \",\")\n",
    "pol = pd.read_csv(\"political/Topics_FB_Political_Posts_per_partyclimate_change.csv\", sep = \",\")\n",
    "news = pd.read_csv(\"news/FB_groups_News_Media_Outlets_climate_change.csv\", sep=\",\")"
   ]
  },
  {
   "cell_type": "code",
   "execution_count": 2,
   "id": "checked-shaft",
   "metadata": {},
   "outputs": [
    {
     "data": {
      "text/html": [
       "<div>\n",
       "<style scoped>\n",
       "    .dataframe tbody tr th:only-of-type {\n",
       "        vertical-align: middle;\n",
       "    }\n",
       "\n",
       "    .dataframe tbody tr th {\n",
       "        vertical-align: top;\n",
       "    }\n",
       "\n",
       "    .dataframe thead th {\n",
       "        text-align: right;\n",
       "    }\n",
       "</style>\n",
       "<table border=\"1\" class=\"dataframe\">\n",
       "  <thead>\n",
       "    <tr style=\"text-align: right;\">\n",
       "      <th></th>\n",
       "      <th>Unnamed: 0</th>\n",
       "      <th>name</th>\n",
       "      <th>Page or Account URL</th>\n",
       "      <th>List</th>\n",
       "      <th>State</th>\n",
       "      <th>state</th>\n",
       "      <th>Facebook Id</th>\n",
       "      <th>Group Name</th>\n",
       "      <th>User Name</th>\n",
       "      <th>Likes at Posting</th>\n",
       "      <th>...</th>\n",
       "      <th>Final Link</th>\n",
       "      <th>Image Text</th>\n",
       "      <th>Link Text</th>\n",
       "      <th>Description</th>\n",
       "      <th>Sponsor Id</th>\n",
       "      <th>Sponsor Name</th>\n",
       "      <th>Total Interactions</th>\n",
       "      <th>Overperforming Score</th>\n",
       "      <th>MessageDescr</th>\n",
       "      <th>MessageOnly</th>\n",
       "    </tr>\n",
       "  </thead>\n",
       "  <tbody>\n",
       "  </tbody>\n",
       "</table>\n",
       "<p>0 rows × 39 columns</p>\n",
       "</div>"
      ],
      "text/plain": [
       "Empty DataFrame\n",
       "Columns: [Unnamed: 0, name, Page or Account URL, List, State, state, Facebook Id, Group Name, User Name, Likes at Posting, Created, Type, Likes, Comments, Shares, Love, Wow, Haha, Sad, Angry, Care, Video Share Status, Post Views, Total Views, Total Views For All Crossposts, Video Length, URL, Message, Link, Final Link, Image Text, Link Text, Description, Sponsor Id, Sponsor Name, Total Interactions, Overperforming Score, MessageDescr, MessageOnly]\n",
       "Index: []\n",
       "\n",
       "[0 rows x 39 columns]"
      ]
     },
     "execution_count": 2,
     "metadata": {},
     "output_type": "execute_result"
    }
   ],
   "source": [
    "com.head()"
   ]
  },
  {
   "cell_type": "code",
   "execution_count": 3,
   "id": "controlled-evaluation",
   "metadata": {},
   "outputs": [
    {
     "data": {
      "text/html": [
       "<div>\n",
       "<style scoped>\n",
       "    .dataframe tbody tr th:only-of-type {\n",
       "        vertical-align: middle;\n",
       "    }\n",
       "\n",
       "    .dataframe tbody tr th {\n",
       "        vertical-align: top;\n",
       "    }\n",
       "\n",
       "    .dataframe thead th {\n",
       "        text-align: right;\n",
       "    }\n",
       "</style>\n",
       "<table border=\"1\" class=\"dataframe\">\n",
       "  <thead>\n",
       "    <tr style=\"text-align: right;\">\n",
       "      <th></th>\n",
       "      <th>Unnamed: 0</th>\n",
       "      <th>Group Name</th>\n",
       "      <th>User Name</th>\n",
       "      <th>Facebook Id</th>\n",
       "      <th>Likes at Posting</th>\n",
       "      <th>Created</th>\n",
       "      <th>Type</th>\n",
       "      <th>Likes</th>\n",
       "      <th>Comments</th>\n",
       "      <th>Shares</th>\n",
       "      <th>...</th>\n",
       "      <th>Image Text</th>\n",
       "      <th>Link Text</th>\n",
       "      <th>Description</th>\n",
       "      <th>Sponsor Id</th>\n",
       "      <th>Sponsor Name</th>\n",
       "      <th>Total Interactions</th>\n",
       "      <th>Overperforming Score</th>\n",
       "      <th>MessageDescr</th>\n",
       "      <th>MessageOnly</th>\n",
       "      <th>party</th>\n",
       "    </tr>\n",
       "  </thead>\n",
       "  <tbody>\n",
       "  </tbody>\n",
       "</table>\n",
       "<p>0 rows × 35 columns</p>\n",
       "</div>"
      ],
      "text/plain": [
       "Empty DataFrame\n",
       "Columns: [Unnamed: 0, Group Name, User Name, Facebook Id, Likes at Posting, Created, Type, Likes, Comments, Shares, Love, Wow, Haha, Sad, Angry, Care, Video Share Status, Post Views, Total Views, Total Views For All Crossposts, Video Length, URL, Message, Link, Final Link, Image Text, Link Text, Description, Sponsor Id, Sponsor Name, Total Interactions, Overperforming Score, MessageDescr, MessageOnly, party]\n",
       "Index: []\n",
       "\n",
       "[0 rows x 35 columns]"
      ]
     },
     "execution_count": 3,
     "metadata": {},
     "output_type": "execute_result"
    }
   ],
   "source": [
    "pol.head()"
   ]
  },
  {
   "cell_type": "code",
   "execution_count": 4,
   "id": "unlike-detail",
   "metadata": {},
   "outputs": [
    {
     "data": {
      "text/html": [
       "<div>\n",
       "<style scoped>\n",
       "    .dataframe tbody tr th:only-of-type {\n",
       "        vertical-align: middle;\n",
       "    }\n",
       "\n",
       "    .dataframe tbody tr th {\n",
       "        vertical-align: top;\n",
       "    }\n",
       "\n",
       "    .dataframe thead th {\n",
       "        text-align: right;\n",
       "    }\n",
       "</style>\n",
       "<table border=\"1\" class=\"dataframe\">\n",
       "  <thead>\n",
       "    <tr style=\"text-align: right;\">\n",
       "      <th></th>\n",
       "      <th>Unnamed: 0</th>\n",
       "      <th>Page Name</th>\n",
       "      <th>User Name</th>\n",
       "      <th>Facebook Id</th>\n",
       "      <th>Likes at Posting</th>\n",
       "      <th>Created</th>\n",
       "      <th>Type</th>\n",
       "      <th>Likes</th>\n",
       "      <th>Comments</th>\n",
       "      <th>Shares</th>\n",
       "      <th>...</th>\n",
       "      <th>Sponsor Id</th>\n",
       "      <th>Sponsor Name</th>\n",
       "      <th>Total Interactions</th>\n",
       "      <th>Total Interactions (weighted  —  Likes 1x Shares 1x Comments 1x Love 1x Wow 1x Haha 1x Sad 1x Angry 1x Care 1x )</th>\n",
       "      <th>Overperforming Score</th>\n",
       "      <th>clean_url</th>\n",
       "      <th>State</th>\n",
       "      <th>Facebook</th>\n",
       "      <th>MessageDescr</th>\n",
       "      <th>MessageOnly</th>\n",
       "    </tr>\n",
       "  </thead>\n",
       "  <tbody>\n",
       "    <tr>\n",
       "      <th>0</th>\n",
       "      <td>107123</td>\n",
       "      <td>Democracy Now! en español</td>\n",
       "      <td>democracynowes</td>\n",
       "      <td>58670196103</td>\n",
       "      <td>29067.0</td>\n",
       "      <td>2020-09-09 17:30:11 EDT</td>\n",
       "      <td>Link</td>\n",
       "      <td>24</td>\n",
       "      <td>0</td>\n",
       "      <td>16</td>\n",
       "      <td>...</td>\n",
       "      <td>NaN</td>\n",
       "      <td>NaN</td>\n",
       "      <td>42</td>\n",
       "      <td>42</td>\n",
       "      <td>1.11</td>\n",
       "      <td>democracynowes</td>\n",
       "      <td>New York</td>\n",
       "      <td>https://www.facebook.com/democracynowes</td>\n",
       "      <td>El incendio de Dolan es solo uno de los al men...</td>\n",
       "      <td>El incendio de Dolan es solo uno de los al men...</td>\n",
       "    </tr>\n",
       "    <tr>\n",
       "      <th>1</th>\n",
       "      <td>287137</td>\n",
       "      <td>Democracy Now! en español</td>\n",
       "      <td>democracynowes</td>\n",
       "      <td>58670196103</td>\n",
       "      <td>29043.0</td>\n",
       "      <td>2020-10-15 19:00:25 EDT</td>\n",
       "      <td>Link</td>\n",
       "      <td>4</td>\n",
       "      <td>4</td>\n",
       "      <td>8</td>\n",
       "      <td>...</td>\n",
       "      <td>NaN</td>\n",
       "      <td>NaN</td>\n",
       "      <td>30</td>\n",
       "      <td>30</td>\n",
       "      <td>-1.43</td>\n",
       "      <td>democracynowes</td>\n",
       "      <td>New York</td>\n",
       "      <td>https://www.facebook.com/democracynowes</td>\n",
       "      <td>La candidata a jueza de la Corte Suprema Amy C...</td>\n",
       "      <td>La candidata a jueza de la Corte Suprema Amy C...</td>\n",
       "    </tr>\n",
       "  </tbody>\n",
       "</table>\n",
       "<p>2 rows × 38 columns</p>\n",
       "</div>"
      ],
      "text/plain": [
       "   Unnamed: 0                  Page Name       User Name  Facebook Id  \\\n",
       "0      107123  Democracy Now! en español  democracynowes  58670196103   \n",
       "1      287137  Democracy Now! en español  democracynowes  58670196103   \n",
       "\n",
       "   Likes at Posting                  Created  Type  Likes  Comments  Shares  \\\n",
       "0           29067.0  2020-09-09 17:30:11 EDT  Link     24         0      16   \n",
       "1           29043.0  2020-10-15 19:00:25 EDT  Link      4         4       8   \n",
       "\n",
       "   ...  Sponsor Id  Sponsor Name  Total Interactions  \\\n",
       "0  ...         NaN           NaN                  42   \n",
       "1  ...         NaN           NaN                  30   \n",
       "\n",
       "   Total Interactions (weighted  —  Likes 1x Shares 1x Comments 1x Love 1x Wow 1x Haha 1x Sad 1x Angry 1x Care 1x )  \\\n",
       "0                                                 42                                                                  \n",
       "1                                                 30                                                                  \n",
       "\n",
       "   Overperforming Score       clean_url     State  \\\n",
       "0                  1.11  democracynowes  New York   \n",
       "1                 -1.43  democracynowes  New York   \n",
       "\n",
       "                                  Facebook  \\\n",
       "0  https://www.facebook.com/democracynowes   \n",
       "1  https://www.facebook.com/democracynowes   \n",
       "\n",
       "                                        MessageDescr  \\\n",
       "0  El incendio de Dolan es solo uno de los al men...   \n",
       "1  La candidata a jueza de la Corte Suprema Amy C...   \n",
       "\n",
       "                                         MessageOnly  \n",
       "0  El incendio de Dolan es solo uno de los al men...  \n",
       "1  La candidata a jueza de la Corte Suprema Amy C...  \n",
       "\n",
       "[2 rows x 38 columns]"
      ]
     },
     "execution_count": 4,
     "metadata": {},
     "output_type": "execute_result"
    }
   ],
   "source": [
    "news.head()"
   ]
  },
  {
   "cell_type": "code",
   "execution_count": 5,
   "id": "needed-reality",
   "metadata": {},
   "outputs": [],
   "source": [
    "pol.rename(columns = {'Group Name': 'name'}, inplace=True)\n",
    "news.rename(columns = {'Page Name': 'name'}, inplace=True)"
   ]
  },
  {
   "cell_type": "code",
   "execution_count": 6,
   "id": "confident-softball",
   "metadata": {},
   "outputs": [
    {
     "name": "stdout",
     "output_type": "stream",
     "text": [
      "0\n",
      "[]\n"
     ]
    }
   ],
   "source": [
    "print(pol.name.nunique())\n",
    "print(pol.name.unique())"
   ]
  },
  {
   "cell_type": "code",
   "execution_count": 7,
   "id": "expressed-third",
   "metadata": {},
   "outputs": [
    {
     "name": "stdout",
     "output_type": "stream",
     "text": [
      "<class 'pandas.core.frame.DataFrame'>\n",
      "<class 'pandas.core.series.Series'>\n",
      "<class 'pandas.core.series.Series'>\n"
     ]
    }
   ],
   "source": [
    "print(type(com))\n",
    "print(type(com['name']))\n",
    "print(type(com.name))"
   ]
  },
  {
   "cell_type": "code",
   "execution_count": 8,
   "id": "retained-clearing",
   "metadata": {},
   "outputs": [
    {
     "name": "stdout",
     "output_type": "stream",
     "text": [
      "0\n"
     ]
    },
    {
     "data": {
      "text/html": [
       "<div>\n",
       "<style scoped>\n",
       "    .dataframe tbody tr th:only-of-type {\n",
       "        vertical-align: middle;\n",
       "    }\n",
       "\n",
       "    .dataframe tbody tr th {\n",
       "        vertical-align: top;\n",
       "    }\n",
       "\n",
       "    .dataframe thead th {\n",
       "        text-align: right;\n",
       "    }\n",
       "</style>\n",
       "<table border=\"1\" class=\"dataframe\">\n",
       "  <thead>\n",
       "    <tr style=\"text-align: right;\">\n",
       "      <th></th>\n",
       "      <th>Unnamed: 0</th>\n",
       "      <th>name</th>\n",
       "      <th>Page or Account URL</th>\n",
       "      <th>List</th>\n",
       "      <th>State</th>\n",
       "      <th>state</th>\n",
       "      <th>Facebook Id</th>\n",
       "      <th>Group Name</th>\n",
       "      <th>User Name</th>\n",
       "      <th>Likes at Posting</th>\n",
       "      <th>...</th>\n",
       "      <th>Final Link</th>\n",
       "      <th>Image Text</th>\n",
       "      <th>Link Text</th>\n",
       "      <th>Description</th>\n",
       "      <th>Sponsor Id</th>\n",
       "      <th>Sponsor Name</th>\n",
       "      <th>Total Interactions</th>\n",
       "      <th>Overperforming Score</th>\n",
       "      <th>MessageDescr</th>\n",
       "      <th>MessageOnly</th>\n",
       "    </tr>\n",
       "  </thead>\n",
       "  <tbody>\n",
       "  </tbody>\n",
       "</table>\n",
       "<p>0 rows × 39 columns</p>\n",
       "</div>"
      ],
      "text/plain": [
       "Empty DataFrame\n",
       "Columns: [Unnamed: 0, name, Page or Account URL, List, State, state, Facebook Id, Group Name, User Name, Likes at Posting, Created, Type, Likes, Comments, Shares, Love, Wow, Haha, Sad, Angry, Care, Video Share Status, Post Views, Total Views, Total Views For All Crossposts, Video Length, URL, Message, Link, Final Link, Image Text, Link Text, Description, Sponsor Id, Sponsor Name, Total Interactions, Overperforming Score, MessageDescr, MessageOnly]\n",
       "Index: []\n",
       "\n",
       "[0 rows x 39 columns]"
      ]
     },
     "execution_count": 8,
     "metadata": {},
     "output_type": "execute_result"
    }
   ],
   "source": [
    "com.name.fillna(com['Group Name'], inplace = True)\n",
    "print(len(com))\n",
    "com.tail()"
   ]
  },
  {
   "cell_type": "code",
   "execution_count": 9,
   "id": "activated-nation",
   "metadata": {},
   "outputs": [
    {
     "name": "stdout",
     "output_type": "stream",
     "text": [
      "<class 'pandas.core.frame.DataFrame'>\n",
      "<class 'pandas.core.series.Series'>\n",
      "<class 'list'>\n"
     ]
    }
   ],
   "source": [
    "print(type(com))\n",
    "print(type(com.name))\n",
    "temp = com.name.tolist()\n",
    "print(type(temp))\n",
    "#print(type(temp[0]))"
   ]
  },
  {
   "cell_type": "code",
   "execution_count": 10,
   "id": "adopted-strength",
   "metadata": {},
   "outputs": [],
   "source": [
    "cond = []\n",
    "for x in temp:\n",
    "    if 'Trump' in x:\n",
    "        cond.append(x)\n",
    "    if 'Democr' in x:\n",
    "        cond.append(x)\n",
    "    if 'Repub' in x:\n",
    "        cond.append(x)\n",
    "    if 'repub' in x:\n",
    "        cond.append(x)"
   ]
  },
  {
   "cell_type": "code",
   "execution_count": 11,
   "id": "political-romania",
   "metadata": {},
   "outputs": [
    {
     "name": "stdout",
     "output_type": "stream",
     "text": [
      "0\n",
      "0\n",
      "[]\n"
     ]
    }
   ],
   "source": [
    "print(len(cond))\n",
    "#v is index\n",
    "v = []\n",
    "for x in range(len(com['name'])):\n",
    "    if com['name'][x] in cond:\n",
    "        v.append(x)\n",
    "print \n",
    "\n",
    "print(len(v))\n",
    "for i in v:\n",
    "    pol = pol.append(com.iloc[i])\n",
    "\n",
    "com.drop(\n",
    "    labels = v,\n",
    "    axis =0,\n",
    "    inplace=True\n",
    ")\n",
    "\n",
    "pol.tail()\n",
    "print(com.name.unique())"
   ]
  },
  {
   "cell_type": "code",
   "execution_count": 12,
   "id": "going-shelter",
   "metadata": {},
   "outputs": [
    {
     "name": "stdout",
     "output_type": "stream",
     "text": [
      "0\n",
      "[]\n",
      "0\n"
     ]
    }
   ],
   "source": [
    "print(len(com))\n",
    "print(com.name.unique())\n",
    "temp = []\n",
    "temp = com.name.unique()\n",
    "print(len(temp))"
   ]
  },
  {
   "cell_type": "code",
   "execution_count": 13,
   "id": "detected-denver",
   "metadata": {},
   "outputs": [
    {
     "data": {
      "text/html": [
       "<div>\n",
       "<style scoped>\n",
       "    .dataframe tbody tr th:only-of-type {\n",
       "        vertical-align: middle;\n",
       "    }\n",
       "\n",
       "    .dataframe tbody tr th {\n",
       "        vertical-align: top;\n",
       "    }\n",
       "\n",
       "    .dataframe thead th {\n",
       "        text-align: right;\n",
       "    }\n",
       "</style>\n",
       "<table border=\"1\" class=\"dataframe\">\n",
       "  <thead>\n",
       "    <tr style=\"text-align: right;\">\n",
       "      <th></th>\n",
       "      <th>name</th>\n",
       "      <th>group</th>\n",
       "      <th>frequency</th>\n",
       "    </tr>\n",
       "  </thead>\n",
       "  <tbody>\n",
       "    <tr>\n",
       "      <th>0</th>\n",
       "      <td>Democracy Now! en español</td>\n",
       "      <td>News</td>\n",
       "      <td>2</td>\n",
       "    </tr>\n",
       "  </tbody>\n",
       "</table>\n",
       "</div>"
      ],
      "text/plain": [
       "                        name group  frequency\n",
       "0  Democracy Now! en español  News          2"
      ]
     },
     "execution_count": 13,
     "metadata": {},
     "output_type": "execute_result"
    }
   ],
   "source": [
    "#column 1 = group, column 2 = 'name' column 3 = 'frequency'\n",
    "\n",
    "group = []\n",
    "name = []\n",
    "frequency = []\n",
    "#community\n",
    "for x in range(len(com)):\n",
    "    \n",
    "    # new row\n",
    "    if com['name'].iloc[x] not in name:\n",
    "        #append new name\n",
    "        name.append(com['name'].iloc[x])\n",
    "        #create new row\n",
    "        group.append('Community')\n",
    "        #give value of 1\n",
    "        frequency.append(1)\n",
    "    else:\n",
    "        v = name.index(com['name'].iloc[x])\n",
    "        frequency[v] +=1\n",
    "\n",
    "#political\n",
    "for x in range(len(pol)):\n",
    "    if pol['name'].iloc[x] not in name:\n",
    "        #append new name\n",
    "        name.append(pol['name'].iloc[x])\n",
    "        #create new row\n",
    "        group.append('Political')\n",
    "        #give value of 1\n",
    "        frequency.append(1)\n",
    "    else:\n",
    "        v = name.index(pol['name'].iloc[x])\n",
    "        frequency[v] +=1\n",
    "        \n",
    "#news\n",
    "for x in range(len(news)):\n",
    "    if news['name'].iloc[x] not in name:\n",
    "        #append new name\n",
    "        name.append(news['name'].iloc[x])\n",
    "        #create new row\n",
    "        group.append('News')\n",
    "        #give value of 1\n",
    "        frequency.append(1)\n",
    "    else:\n",
    "        v = name.index(news['name'].iloc[x])\n",
    "        frequency[v] +=1\n",
    "\n",
    "dict = {'name': name, 'group': group, 'frequency': frequency}\n",
    "df = pd.DataFrame(dict)\n",
    "df\n"
   ]
  },
  {
   "cell_type": "code",
   "execution_count": 14,
   "id": "forbidden-julian",
   "metadata": {},
   "outputs": [
    {
     "data": {
      "text/plain": [
       "<seaborn.axisgrid.FacetGrid at 0x11a5f57b8>"
      ]
     },
     "execution_count": 14,
     "metadata": {},
     "output_type": "execute_result"
    },
    {
     "data": {
      "image/png": "[encoded data removed]",
      "text/plain": [
       "<Figure size 720x360 with 1 Axes>"
      ]
     },
     "metadata": {
      "needs_background": "light"
     },
     "output_type": "display_data"
    }
   ],
   "source": [
    "import seaborn as sns\n",
    "\n",
    "sns.catplot(x='group', y = 'frequency', data =df, dodge=True, kind = 'violin', aspect =2)"
   ]
  },
  {
   "cell_type": "code",
   "execution_count": 15,
   "id": "irish-turner",
   "metadata": {},
   "outputs": [
    {
     "data": {
      "text/plain": [
       "<seaborn.axisgrid.FacetGrid at 0x1283caa20>"
      ]
     },
     "execution_count": 15,
     "metadata": {},
     "output_type": "execute_result"
    },
    {
     "data": {
      "image/png": "[encoded data removed]",
      "text/plain": [
       "<Figure size 360x360 with 1 Axes>"
      ]
     },
     "metadata": {
      "needs_background": "light"
     },
     "output_type": "display_data"
    }
   ],
   "source": [
    "sns.catplot(x='frequency', y ='group', data=df, kind ='strip')"
   ]
  },
  {
   "cell_type": "code",
   "execution_count": 16,
   "id": "dental-celebration",
   "metadata": {},
   "outputs": [
    {
     "data": {
      "text/plain": [
       "<seaborn.axisgrid.FacetGrid at 0x11a5f5c18>"
      ]
     },
     "execution_count": 16,
     "metadata": {},
     "output_type": "execute_result"
    },
    {
     "data": {
      "image/png": "[encoded data removed]",
      "text/plain": [
       "<Figure size 360x360 with 1 Axes>"
      ]
     },
     "metadata": {
      "needs_background": "light"
     },
     "output_type": "display_data"
    }
   ],
   "source": [
    "sns.catplot(x='frequency', y ='group', data=df, kind ='violin')"
   ]
  },
  {
   "cell_type": "code",
   "execution_count": null,
   "id": "positive-electricity",
   "metadata": {},
   "outputs": [],
   "source": []
  },
  {
   "cell_type": "code",
   "execution_count": null,
   "id": "ranking-benefit",
   "metadata": {},
   "outputs": [],
   "source": []
  }
 ],
 "metadata": {
  "kernelspec": {
   "display_name": "Python 3",
   "language": "python",
   "name": "python3"
  },
  "language_info": {
   "codemirror_mode": {
    "name": "ipython",
    "version": 3
   },
   "file_extension": ".py",
   "mimetype": "text/x-python",
   "name": "python",
   "nbconvert_exporter": "python",
   "pygments_lexer": "ipython3",
   "version": "3.7.2"
  }
 },
 "nbformat": 4,
 "nbformat_minor": 5
}
